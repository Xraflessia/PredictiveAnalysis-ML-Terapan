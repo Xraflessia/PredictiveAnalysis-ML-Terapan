{
  "nbformat": 4,
  "nbformat_minor": 0,
  "metadata": {
    "colab": {
      "provenance": []
    },
    "kernelspec": {
      "name": "python3",
      "display_name": "Python 3"
    },
    "language_info": {
      "name": "python"
    }
  },
  "cells": [
    {
      "cell_type": "markdown",
      "metadata": {
        "id": "view-in-github"
      },
      "source": [
      ]
    },
    {
      "cell_type": "markdown",
      "source": [
        "# Projek Pertama Machine Learning Terapan - Cindy Alya Putri\n",
        "\n",
        "## Latar belakang\n",
        "\n",
        "Anemia merupakan kondisi kekurangan hemoglobin dalam darah yang menyebabkan tubuh kekurangan oksigen. Masalah ini umum terjadi dan berdampak serius terhadap kesehatan, terutama pada wanita hamil dan anak-anak. WHO melaporkan bahwa lebih dari 40% wanita hamil dan anak balita di dunia mengalami anemia [1].\n",
        "\n",
        "Proses diagnosis anemia biasanya dilakukan dengan analisis laboratorium terhadap parameter darah seperti Hemoglobin, MCH, MCHC, dan MCV. Namun, analisis manual memiliki keterbatasan, seperti waktu yang lama dan potensi ketidakkonsistenan antar tenaga medis.\n",
        "\n",
        "Oleh karena itu, dibutuhkan pendekatan yang lebih cepat dan akurat. Machine learning menjadi solusi yang potensial karena mampu mengolah data medis dan memberikan prediksi diagnosis secara otomatis. Ramzan et al. (2024) mengembangkan model berbasis attention mechanism yang meningkatkan akurasi deteksi anemia [2]. Penelitian lain oleh Dhakal et al. (2023) dan Asare et al. (2023) juga menunjukkan bahwa algoritma seperti Random Forest dan SVM efektif dalam klasifikasi anemia [3][4].\n",
        "\n",
        "Dengan pendekatan ini, sistem klasifikasi anemia berbasis machine learning diharapkan dapat membantu proses diagnosis menjadi lebih efisien, akurat, dan mendukung pengambilan keputusan medis secara objektif.\n",
        "\n"
      ],
      "metadata": {
        "id": "Ky2ukuZ1hK7R"
      }
    },
    {
      "cell_type": "markdown",
      "source": [
        "## Mengimport library yang dibutuhkan"
      ],
      "metadata": {
        "id": "-dGYg_GuNf40"
      }
    },
    {
      "cell_type": "code",
      "source": [
        "import kagglehub\n",
        "import os\n",
        "import pandas as pd\n",
        "import matplotlib.pyplot as plt\n",
        "import seaborn as sns\n",
        "import numpy as np\n",
        "from sklearn.model_selection import train_test_split\n",
        "from sklearn.preprocessing import MinMaxScaler\n",
        "from sklearn.metrics import accuracy_score, confusion_matrix, classification_report ,f1_score , precision_score, recall_score\n",
        "from imblearn.over_sampling import SMOTE\n",
        "from sklearn.ensemble import RandomForestClassifier , GradientBoostingClassifier\n",
        "from sklearn.svm import SVC\n",
        "from sklearn.neighbors import KNeighborsClassifier\n"
      ],
      "metadata": {
        "id": "UutP0w4UzddC"
      },
      "execution_count": null,
      "outputs": []
    },
    {
      "cell_type": "markdown",
      "source": [
        "# Data Loading\n",
        "\n",
        "Dataset yang digunakan merupakan dataset yang berasal dari kaggle, yang diterbitkan oleh Biswa Ranjan Rao dengan judul Anemia Dataset. Dataset ini memiliki 1421 baris dan 6 kolom dengan total 6 fitur yang terdiri dari 5 fitur independen dan 1 fitur dependen atau label. jenis data dari dataset bertipe kuantitatif."
      ],
      "metadata": {
        "id": "9ffLwk8lsYD7"
      }
    },
    {
      "cell_type": "code",
      "execution_count": null,
      "metadata": {
        "colab": {
          "base_uri": "https://localhost:8080/"
        },
        "id": "1A9SfZ1ozcVt",
        "outputId": "32d41203-b04c-4b42-9380-18efa410fdca"
      },
      "outputs": [
        {
          "output_type": "stream",
          "name": "stdout",
          "text": [
            "Downloading from https://www.kaggle.com/api/v1/datasets/download/biswaranjanrao/anemia-dataset?dataset_version_number=1...\n"
          ]
        },
        {
          "output_type": "stream",
          "name": "stderr",
          "text": [
            "100%|██████████| 4.61k/4.61k [00:00<00:00, 6.21MB/s]"
          ]
        },
        {
          "output_type": "stream",
          "name": "stdout",
          "text": [
            "Extracting files...\n",
            "Path to dataset files: /root/.cache/kagglehub/datasets/biswaranjanrao/anemia-dataset/versions/1\n"
          ]
        },
        {
          "output_type": "stream",
          "name": "stderr",
          "text": [
            "\n"
          ]
        }
      ],
      "source": [
        "# Download latest version\n",
        "path = kagglehub.dataset_download(\"biswaranjanrao/anemia-dataset\")\n",
        "\n",
        "print(\"Path to dataset files:\", path)"
      ]
    },
    {
      "cell_type": "code",
      "source": [
        "DATA_DIR = f'{path}/{os.listdir(path)[0]}'\n",
        "df = pd.read_csv(DATA_DIR)"
      ],
      "metadata": {
        "id": "fAUXu40dzrGC"
      },
      "execution_count": null,
      "outputs": []
    },
    {
      "cell_type": "markdown",
      "source": [
        "# Exploratory Data Analysis (EDA)"
      ],
      "metadata": {
        "id": "4mZLcSicw-V3"
      }
    },
    {
      "cell_type": "markdown",
      "source": [
        "## Melihat kolom dan tipe data dari kolom pada dataset"
      ],
      "metadata": {
        "id": "1o0hNbqBfSWv"
      }
    },
    {
      "cell_type": "code",
      "source": [
        "df.info()"
      ],
      "metadata": {
        "colab": {
          "base_uri": "https://localhost:8080/"
        },
        "id": "gNrKZH-D0fVm",
        "outputId": "8a8a56ab-ba48-45cb-8a67-f5e5626c6737"
      },
      "execution_count": null,
      "outputs": [
        {
          "output_type": "stream",
          "name": "stdout",
          "text": [
            "<class 'pandas.core.frame.DataFrame'>\n",
            "RangeIndex: 1421 entries, 0 to 1420\n",
            "Data columns (total 6 columns):\n",
            " #   Column      Non-Null Count  Dtype  \n",
            "---  ------      --------------  -----  \n",
            " 0   Gender      1421 non-null   int64  \n",
            " 1   Hemoglobin  1421 non-null   float64\n",
            " 2   MCH         1421 non-null   float64\n",
            " 3   MCHC        1421 non-null   float64\n",
            " 4   MCV         1421 non-null   float64\n",
            " 5   Result      1421 non-null   int64  \n",
            "dtypes: float64(4), int64(2)\n",
            "memory usage: 66.7 KB\n"
          ]
        }
      ]
    },
    {
      "cell_type": "markdown",
      "source": [
        "dataset ini berjenis data kuantitatif, dimana hal tersebut terbukti dari data yang memiliki tipe data float64 dan Int64. terdapat 1421 entri data di dalam dataset serta terdapat 6 kolom di dalamnya."
      ],
      "metadata": {
        "id": "nkltYjk0GP18"
      }
    },
    {
      "cell_type": "markdown",
      "source": [
        "## Melihat 5 data teratas pada Dataset"
      ],
      "metadata": {
        "id": "JTVL8NahfZ6U"
      }
    },
    {
      "cell_type": "code",
      "source": [
        "df.head()"
      ],
      "metadata": {
        "colab": {
          "base_uri": "https://localhost:8080/",
          "height": 206
        },
        "id": "6cmXzyHo0WCC",
        "outputId": "a4b3a167-594c-4a79-898e-613fb70b5792"
      },
      "execution_count": null,
      "outputs": [
        {
          "output_type": "execute_result",
          "data": {
            "text/plain": [
              "   Gender  Hemoglobin   MCH  MCHC   MCV  Result\n",
              "0       1        14.9  22.7  29.1  83.7       0\n",
              "1       0        15.9  25.4  28.3  72.0       0\n",
              "2       0         9.0  21.5  29.6  71.2       1\n",
              "3       0        14.9  16.0  31.4  87.5       0\n",
              "4       1        14.7  22.0  28.2  99.5       0"
            ],
            "text/html": [
              "\n",
              "  <div id=\"df-32b627e6-fa21-4310-bae7-f4f65ef64c8b\" class=\"colab-df-container\">\n",
              "    <div>\n",
              "<style scoped>\n",
              "    .dataframe tbody tr th:only-of-type {\n",
              "        vertical-align: middle;\n",
              "    }\n",
              "\n",
              "    .dataframe tbody tr th {\n",
              "        vertical-align: top;\n",
              "    }\n",
              "\n",
              "    .dataframe thead th {\n",
              "        text-align: right;\n",
              "    }\n",
              "</style>\n",
              "<table border=\"1\" class=\"dataframe\">\n",
              "  <thead>\n",
              "    <tr style=\"text-align: right;\">\n",
              "      <th></th>\n",
              "      <th>Gender</th>\n",
              "      <th>Hemoglobin</th>\n",
              "      <th>MCH</th>\n",
              "      <th>MCHC</th>\n",
              "      <th>MCV</th>\n",
              "      <th>Result</th>\n",
              "    </tr>\n",
              "  </thead>\n",
              "  <tbody>\n",
              "    <tr>\n",
              "      <th>0</th>\n",
              "      <td>1</td>\n",
              "      <td>14.9</td>\n",
              "      <td>22.7</td>\n",
              "      <td>29.1</td>\n",
              "      <td>83.7</td>\n",
              "      <td>0</td>\n",
              "    </tr>\n",
              "    <tr>\n",
              "      <th>1</th>\n",
              "      <td>0</td>\n",
              "      <td>15.9</td>\n",
              "      <td>25.4</td>\n",
              "      <td>28.3</td>\n",
              "      <td>72.0</td>\n",
              "      <td>0</td>\n",
              "    </tr>\n",
              "    <tr>\n",
              "      <th>2</th>\n",
              "      <td>0</td>\n",
              "      <td>9.0</td>\n",
              "      <td>21.5</td>\n",
              "      <td>29.6</td>\n",
              "      <td>71.2</td>\n",
              "      <td>1</td>\n",
              "    </tr>\n",
              "    <tr>\n",
              "      <th>3</th>\n",
              "      <td>0</td>\n",
              "      <td>14.9</td>\n",
              "      <td>16.0</td>\n",
              "      <td>31.4</td>\n",
              "      <td>87.5</td>\n",
              "      <td>0</td>\n",
              "    </tr>\n",
              "    <tr>\n",
              "      <th>4</th>\n",
              "      <td>1</td>\n",
              "      <td>14.7</td>\n",
              "      <td>22.0</td>\n",
              "      <td>28.2</td>\n",
              "      <td>99.5</td>\n",
              "      <td>0</td>\n",
              "    </tr>\n",
              "  </tbody>\n",
              "</table>\n",
              "</div>\n",
              "    <div class=\"colab-df-buttons\">\n",
              "\n",
              "  <div class=\"colab-df-container\">\n",
              "    <button class=\"colab-df-convert\" onclick=\"convertToInteractive('df-32b627e6-fa21-4310-bae7-f4f65ef64c8b')\"\n",
              "            title=\"Convert this dataframe to an interactive table.\"\n",
              "            style=\"display:none;\">\n",
              "\n",
              "  <svg xmlns=\"http://www.w3.org/2000/svg\" height=\"24px\" viewBox=\"0 -960 960 960\">\n",
              "    <path d=\"M120-120v-720h720v720H120Zm60-500h600v-160H180v160Zm220 220h160v-160H400v160Zm0 220h160v-160H400v160ZM180-400h160v-160H180v160Zm440 0h160v-160H620v160ZM180-180h160v-160H180v160Zm440 0h160v-160H620v160Z\"/>\n",
              "  </svg>\n",
              "    </button>\n",
              "\n",
              "  <style>\n",
              "    .colab-df-container {\n",
              "      display:flex;\n",
              "      gap: 12px;\n",
              "    }\n",
              "\n",
              "    .colab-df-convert {\n",
              "      background-color: #E8F0FE;\n",
              "      border: none;\n",
              "      border-radius: 50%;\n",
              "      cursor: pointer;\n",
              "      display: none;\n",
              "      fill: #1967D2;\n",
              "      height: 32px;\n",
              "      padding: 0 0 0 0;\n",
              "      width: 32px;\n",
              "    }\n",
              "\n",
              "    .colab-df-convert:hover {\n",
              "      background-color: #E2EBFA;\n",
              "      box-shadow: 0px 1px 2px rgba(60, 64, 67, 0.3), 0px 1px 3px 1px rgba(60, 64, 67, 0.15);\n",
              "      fill: #174EA6;\n",
              "    }\n",
              "\n",
              "    .colab-df-buttons div {\n",
              "      margin-bottom: 4px;\n",
              "    }\n",
              "\n",
              "    [theme=dark] .colab-df-convert {\n",
              "      background-color: #3B4455;\n",
              "      fill: #D2E3FC;\n",
              "    }\n",
              "\n",
              "    [theme=dark] .colab-df-convert:hover {\n",
              "      background-color: #434B5C;\n",
              "      box-shadow: 0px 1px 3px 1px rgba(0, 0, 0, 0.15);\n",
              "      filter: drop-shadow(0px 1px 2px rgba(0, 0, 0, 0.3));\n",
              "      fill: #FFFFFF;\n",
              "    }\n",
              "  </style>\n",
              "\n",
              "    <script>\n",
              "      const buttonEl =\n",
              "        document.querySelector('#df-32b627e6-fa21-4310-bae7-f4f65ef64c8b button.colab-df-convert');\n",
              "      buttonEl.style.display =\n",
              "        google.colab.kernel.accessAllowed ? 'block' : 'none';\n",
              "\n",
              "      async function convertToInteractive(key) {\n",
              "        const element = document.querySelector('#df-32b627e6-fa21-4310-bae7-f4f65ef64c8b');\n",
              "        const dataTable =\n",
              "          await google.colab.kernel.invokeFunction('convertToInteractive',\n",
              "                                                    [key], {});\n",
              "        if (!dataTable) return;\n",
              "\n",
              "        const docLinkHtml = 'Like what you see? Visit the ' +\n",
              "          '<a target=\"_blank\" href=https://colab.research.google.com/notebooks/data_table.ipynb>data table notebook</a>'\n",
              "          + ' to learn more about interactive tables.';\n",
              "        element.innerHTML = '';\n",
              "        dataTable['output_type'] = 'display_data';\n",
              "        await google.colab.output.renderOutput(dataTable, element);\n",
              "        const docLink = document.createElement('div');\n",
              "        docLink.innerHTML = docLinkHtml;\n",
              "        element.appendChild(docLink);\n",
              "      }\n",
              "    </script>\n",
              "  </div>\n",
              "\n",
              "\n",
              "    <div id=\"df-8bd97cb3-76ac-4cba-9930-eb21a8c58c81\">\n",
              "      <button class=\"colab-df-quickchart\" onclick=\"quickchart('df-8bd97cb3-76ac-4cba-9930-eb21a8c58c81')\"\n",
              "                title=\"Suggest charts\"\n",
              "                style=\"display:none;\">\n",
              "\n",
              "<svg xmlns=\"http://www.w3.org/2000/svg\" height=\"24px\"viewBox=\"0 0 24 24\"\n",
              "     width=\"24px\">\n",
              "    <g>\n",
              "        <path d=\"M19 3H5c-1.1 0-2 .9-2 2v14c0 1.1.9 2 2 2h14c1.1 0 2-.9 2-2V5c0-1.1-.9-2-2-2zM9 17H7v-7h2v7zm4 0h-2V7h2v10zm4 0h-2v-4h2v4z\"/>\n",
              "    </g>\n",
              "</svg>\n",
              "      </button>\n",
              "\n",
              "<style>\n",
              "  .colab-df-quickchart {\n",
              "      --bg-color: #E8F0FE;\n",
              "      --fill-color: #1967D2;\n",
              "      --hover-bg-color: #E2EBFA;\n",
              "      --hover-fill-color: #174EA6;\n",
              "      --disabled-fill-color: #AAA;\n",
              "      --disabled-bg-color: #DDD;\n",
              "  }\n",
              "\n",
              "  [theme=dark] .colab-df-quickchart {\n",
              "      --bg-color: #3B4455;\n",
              "      --fill-color: #D2E3FC;\n",
              "      --hover-bg-color: #434B5C;\n",
              "      --hover-fill-color: #FFFFFF;\n",
              "      --disabled-bg-color: #3B4455;\n",
              "      --disabled-fill-color: #666;\n",
              "  }\n",
              "\n",
              "  .colab-df-quickchart {\n",
              "    background-color: var(--bg-color);\n",
              "    border: none;\n",
              "    border-radius: 50%;\n",
              "    cursor: pointer;\n",
              "    display: none;\n",
              "    fill: var(--fill-color);\n",
              "    height: 32px;\n",
              "    padding: 0;\n",
              "    width: 32px;\n",
              "  }\n",
              "\n",
              "  .colab-df-quickchart:hover {\n",
              "    background-color: var(--hover-bg-color);\n",
              "    box-shadow: 0 1px 2px rgba(60, 64, 67, 0.3), 0 1px 3px 1px rgba(60, 64, 67, 0.15);\n",
              "    fill: var(--button-hover-fill-color);\n",
              "  }\n",
              "\n",
              "  .colab-df-quickchart-complete:disabled,\n",
              "  .colab-df-quickchart-complete:disabled:hover {\n",
              "    background-color: var(--disabled-bg-color);\n",
              "    fill: var(--disabled-fill-color);\n",
              "    box-shadow: none;\n",
              "  }\n",
              "\n",
              "  .colab-df-spinner {\n",
              "    border: 2px solid var(--fill-color);\n",
              "    border-color: transparent;\n",
              "    border-bottom-color: var(--fill-color);\n",
              "    animation:\n",
              "      spin 1s steps(1) infinite;\n",
              "  }\n",
              "\n",
              "  @keyframes spin {\n",
              "    0% {\n",
              "      border-color: transparent;\n",
              "      border-bottom-color: var(--fill-color);\n",
              "      border-left-color: var(--fill-color);\n",
              "    }\n",
              "    20% {\n",
              "      border-color: transparent;\n",
              "      border-left-color: var(--fill-color);\n",
              "      border-top-color: var(--fill-color);\n",
              "    }\n",
              "    30% {\n",
              "      border-color: transparent;\n",
              "      border-left-color: var(--fill-color);\n",
              "      border-top-color: var(--fill-color);\n",
              "      border-right-color: var(--fill-color);\n",
              "    }\n",
              "    40% {\n",
              "      border-color: transparent;\n",
              "      border-right-color: var(--fill-color);\n",
              "      border-top-color: var(--fill-color);\n",
              "    }\n",
              "    60% {\n",
              "      border-color: transparent;\n",
              "      border-right-color: var(--fill-color);\n",
              "    }\n",
              "    80% {\n",
              "      border-color: transparent;\n",
              "      border-right-color: var(--fill-color);\n",
              "      border-bottom-color: var(--fill-color);\n",
              "    }\n",
              "    90% {\n",
              "      border-color: transparent;\n",
              "      border-bottom-color: var(--fill-color);\n",
              "    }\n",
              "  }\n",
              "</style>\n",
              "\n",
              "      <script>\n",
              "        async function quickchart(key) {\n",
              "          const quickchartButtonEl =\n",
              "            document.querySelector('#' + key + ' button');\n",
              "          quickchartButtonEl.disabled = true;  // To prevent multiple clicks.\n",
              "          quickchartButtonEl.classList.add('colab-df-spinner');\n",
              "          try {\n",
              "            const charts = await google.colab.kernel.invokeFunction(\n",
              "                'suggestCharts', [key], {});\n",
              "          } catch (error) {\n",
              "            console.error('Error during call to suggestCharts:', error);\n",
              "          }\n",
              "          quickchartButtonEl.classList.remove('colab-df-spinner');\n",
              "          quickchartButtonEl.classList.add('colab-df-quickchart-complete');\n",
              "        }\n",
              "        (() => {\n",
              "          let quickchartButtonEl =\n",
              "            document.querySelector('#df-8bd97cb3-76ac-4cba-9930-eb21a8c58c81 button');\n",
              "          quickchartButtonEl.style.display =\n",
              "            google.colab.kernel.accessAllowed ? 'block' : 'none';\n",
              "        })();\n",
              "      </script>\n",
              "    </div>\n",
              "\n",
              "    </div>\n",
              "  </div>\n"
            ],
            "application/vnd.google.colaboratory.intrinsic+json": {
              "type": "dataframe",
              "variable_name": "df",
              "summary": "{\n  \"name\": \"df\",\n  \"rows\": 1421,\n  \"fields\": [\n    {\n      \"column\": \"Gender\",\n      \"properties\": {\n        \"dtype\": \"number\",\n        \"std\": 0,\n        \"min\": 0,\n        \"max\": 1,\n        \"num_unique_values\": 2,\n        \"samples\": [\n          0,\n          1\n        ],\n        \"semantic_type\": \"\",\n        \"description\": \"\"\n      }\n    },\n    {\n      \"column\": \"Hemoglobin\",\n      \"properties\": {\n        \"dtype\": \"number\",\n        \"std\": 1.974545669099527,\n        \"min\": 6.6,\n        \"max\": 16.9,\n        \"num_unique_values\": 81,\n        \"samples\": [\n          16.1,\n          14.9\n        ],\n        \"semantic_type\": \"\",\n        \"description\": \"\"\n      }\n    },\n    {\n      \"column\": \"MCH\",\n      \"properties\": {\n        \"dtype\": \"number\",\n        \"std\": 3.9693752800142206,\n        \"min\": 16.0,\n        \"max\": 30.0,\n        \"num_unique_values\": 136,\n        \"samples\": [\n          16.9,\n          28.2\n        ],\n        \"semantic_type\": \"\",\n        \"description\": \"\"\n      }\n    },\n    {\n      \"column\": \"MCHC\",\n      \"properties\": {\n        \"dtype\": \"number\",\n        \"std\": 1.4008976862509868,\n        \"min\": 27.8,\n        \"max\": 32.5,\n        \"num_unique_values\": 48,\n        \"samples\": [\n          29.4,\n          31.6\n        ],\n        \"semantic_type\": \"\",\n        \"description\": \"\"\n      }\n    },\n    {\n      \"column\": \"MCV\",\n      \"properties\": {\n        \"dtype\": \"number\",\n        \"std\": 9.636701265962927,\n        \"min\": 69.4,\n        \"max\": 101.6,\n        \"num_unique_values\": 262,\n        \"samples\": [\n          101.1,\n          69.5\n        ],\n        \"semantic_type\": \"\",\n        \"description\": \"\"\n      }\n    },\n    {\n      \"column\": \"Result\",\n      \"properties\": {\n        \"dtype\": \"number\",\n        \"std\": 0,\n        \"min\": 0,\n        \"max\": 1,\n        \"num_unique_values\": 2,\n        \"samples\": [\n          1,\n          0\n        ],\n        \"semantic_type\": \"\",\n        \"description\": \"\"\n      }\n    }\n  ]\n}"
            }
          },
          "metadata": {},
          "execution_count": 5
        }
      ]
    },
    {
      "cell_type": "markdown",
      "source": [
        "Tabel tersebut adalah contoh 5 data pertama dari dataset"
      ],
      "metadata": {
        "id": "RaMyU0MFG68L"
      }
    },
    {
      "cell_type": "markdown",
      "source": [
        "# Melihat statistik deskriptif"
      ],
      "metadata": {
        "id": "P5fU9pWjfdDR"
      }
    },
    {
      "cell_type": "code",
      "source": [
        "df.describe()"
      ],
      "metadata": {
        "colab": {
          "base_uri": "https://localhost:8080/",
          "height": 301
        },
        "id": "USUh3-Qu0YS5",
        "outputId": "8d024ca8-ed61-4e01-f26e-bb99e942bfd0"
      },
      "execution_count": null,
      "outputs": [
        {
          "output_type": "execute_result",
          "data": {
            "text/plain": [
              "            Gender   Hemoglobin          MCH         MCHC          MCV  \\\n",
              "count  1421.000000  1421.000000  1421.000000  1421.000000  1421.000000   \n",
              "mean      0.520760    13.412738    22.905630    30.251232    85.523786   \n",
              "std       0.499745     1.974546     3.969375     1.400898     9.636701   \n",
              "min       0.000000     6.600000    16.000000    27.800000    69.400000   \n",
              "25%       0.000000    11.700000    19.400000    29.000000    77.300000   \n",
              "50%       1.000000    13.200000    22.700000    30.400000    85.300000   \n",
              "75%       1.000000    15.000000    26.200000    31.400000    94.200000   \n",
              "max       1.000000    16.900000    30.000000    32.500000   101.600000   \n",
              "\n",
              "            Result  \n",
              "count  1421.000000  \n",
              "mean      0.436312  \n",
              "std       0.496102  \n",
              "min       0.000000  \n",
              "25%       0.000000  \n",
              "50%       0.000000  \n",
              "75%       1.000000  \n",
              "max       1.000000  "
            ],
            "text/html": [
              "\n",
              "  <div id=\"df-6edb7e42-a765-4b0a-bf94-f306d54c489c\" class=\"colab-df-container\">\n",
              "    <div>\n",
              "<style scoped>\n",
              "    .dataframe tbody tr th:only-of-type {\n",
              "        vertical-align: middle;\n",
              "    }\n",
              "\n",
              "    .dataframe tbody tr th {\n",
              "        vertical-align: top;\n",
              "    }\n",
              "\n",
              "    .dataframe thead th {\n",
              "        text-align: right;\n",
              "    }\n",
              "</style>\n",
              "<table border=\"1\" class=\"dataframe\">\n",
              "  <thead>\n",
              "    <tr style=\"text-align: right;\">\n",
              "      <th></th>\n",
              "      <th>Gender</th>\n",
              "      <th>Hemoglobin</th>\n",
              "      <th>MCH</th>\n",
              "      <th>MCHC</th>\n",
              "      <th>MCV</th>\n",
              "      <th>Result</th>\n",
              "    </tr>\n",
              "  </thead>\n",
              "  <tbody>\n",
              "    <tr>\n",
              "      <th>count</th>\n",
              "      <td>1421.000000</td>\n",
              "      <td>1421.000000</td>\n",
              "      <td>1421.000000</td>\n",
              "      <td>1421.000000</td>\n",
              "      <td>1421.000000</td>\n",
              "      <td>1421.000000</td>\n",
              "    </tr>\n",
              "    <tr>\n",
              "      <th>mean</th>\n",
              "      <td>0.520760</td>\n",
              "      <td>13.412738</td>\n",
              "      <td>22.905630</td>\n",
              "      <td>30.251232</td>\n",
              "      <td>85.523786</td>\n",
              "      <td>0.436312</td>\n",
              "    </tr>\n",
              "    <tr>\n",
              "      <th>std</th>\n",
              "      <td>0.499745</td>\n",
              "      <td>1.974546</td>\n",
              "      <td>3.969375</td>\n",
              "      <td>1.400898</td>\n",
              "      <td>9.636701</td>\n",
              "      <td>0.496102</td>\n",
              "    </tr>\n",
              "    <tr>\n",
              "      <th>min</th>\n",
              "      <td>0.000000</td>\n",
              "      <td>6.600000</td>\n",
              "      <td>16.000000</td>\n",
              "      <td>27.800000</td>\n",
              "      <td>69.400000</td>\n",
              "      <td>0.000000</td>\n",
              "    </tr>\n",
              "    <tr>\n",
              "      <th>25%</th>\n",
              "      <td>0.000000</td>\n",
              "      <td>11.700000</td>\n",
              "      <td>19.400000</td>\n",
              "      <td>29.000000</td>\n",
              "      <td>77.300000</td>\n",
              "      <td>0.000000</td>\n",
              "    </tr>\n",
              "    <tr>\n",
              "      <th>50%</th>\n",
              "      <td>1.000000</td>\n",
              "      <td>13.200000</td>\n",
              "      <td>22.700000</td>\n",
              "      <td>30.400000</td>\n",
              "      <td>85.300000</td>\n",
              "      <td>0.000000</td>\n",
              "    </tr>\n",
              "    <tr>\n",
              "      <th>75%</th>\n",
              "      <td>1.000000</td>\n",
              "      <td>15.000000</td>\n",
              "      <td>26.200000</td>\n",
              "      <td>31.400000</td>\n",
              "      <td>94.200000</td>\n",
              "      <td>1.000000</td>\n",
              "    </tr>\n",
              "    <tr>\n",
              "      <th>max</th>\n",
              "      <td>1.000000</td>\n",
              "      <td>16.900000</td>\n",
              "      <td>30.000000</td>\n",
              "      <td>32.500000</td>\n",
              "      <td>101.600000</td>\n",
              "      <td>1.000000</td>\n",
              "    </tr>\n",
              "  </tbody>\n",
              "</table>\n",
              "</div>\n",
              "    <div class=\"colab-df-buttons\">\n",
              "\n",
              "  <div class=\"colab-df-container\">\n",
              "    <button class=\"colab-df-convert\" onclick=\"convertToInteractive('df-6edb7e42-a765-4b0a-bf94-f306d54c489c')\"\n",
              "            title=\"Convert this dataframe to an interactive table.\"\n",
              "            style=\"display:none;\">\n",
              "\n",
              "  <svg xmlns=\"http://www.w3.org/2000/svg\" height=\"24px\" viewBox=\"0 -960 960 960\">\n",
              "    <path d=\"M120-120v-720h720v720H120Zm60-500h600v-160H180v160Zm220 220h160v-160H400v160Zm0 220h160v-160H400v160ZM180-400h160v-160H180v160Zm440 0h160v-160H620v160ZM180-180h160v-160H180v160Zm440 0h160v-160H620v160Z\"/>\n",
              "  </svg>\n",
              "    </button>\n",
              "\n",
              "  <style>\n",
              "    .colab-df-container {\n",
              "      display:flex;\n",
              "      gap: 12px;\n",
              "    }\n",
              "\n",
              "    .colab-df-convert {\n",
              "      background-color: #E8F0FE;\n",
              "      border: none;\n",
              "      border-radius: 50%;\n",
              "      cursor: pointer;\n",
              "      display: none;\n",
              "      fill: #1967D2;\n",
              "      height: 32px;\n",
              "      padding: 0 0 0 0;\n",
              "      width: 32px;\n",
              "    }\n",
              "\n",
              "    .colab-df-convert:hover {\n",
              "      background-color: #E2EBFA;\n",
              "      box-shadow: 0px 1px 2px rgba(60, 64, 67, 0.3), 0px 1px 3px 1px rgba(60, 64, 67, 0.15);\n",
              "      fill: #174EA6;\n",
              "    }\n",
              "\n",
              "    .colab-df-buttons div {\n",
              "      margin-bottom: 4px;\n",
              "    }\n",
              "\n",
              "    [theme=dark] .colab-df-convert {\n",
              "      background-color: #3B4455;\n",
              "      fill: #D2E3FC;\n",
              "    }\n",
              "\n",
              "    [theme=dark] .colab-df-convert:hover {\n",
              "      background-color: #434B5C;\n",
              "      box-shadow: 0px 1px 3px 1px rgba(0, 0, 0, 0.15);\n",
              "      filter: drop-shadow(0px 1px 2px rgba(0, 0, 0, 0.3));\n",
              "      fill: #FFFFFF;\n",
              "    }\n",
              "  </style>\n",
              "\n",
              "    <script>\n",
              "      const buttonEl =\n",
              "        document.querySelector('#df-6edb7e42-a765-4b0a-bf94-f306d54c489c button.colab-df-convert');\n",
              "      buttonEl.style.display =\n",
              "        google.colab.kernel.accessAllowed ? 'block' : 'none';\n",
              "\n",
              "      async function convertToInteractive(key) {\n",
              "        const element = document.querySelector('#df-6edb7e42-a765-4b0a-bf94-f306d54c489c');\n",
              "        const dataTable =\n",
              "          await google.colab.kernel.invokeFunction('convertToInteractive',\n",
              "                                                    [key], {});\n",
              "        if (!dataTable) return;\n",
              "\n",
              "        const docLinkHtml = 'Like what you see? Visit the ' +\n",
              "          '<a target=\"_blank\" href=https://colab.research.google.com/notebooks/data_table.ipynb>data table notebook</a>'\n",
              "          + ' to learn more about interactive tables.';\n",
              "        element.innerHTML = '';\n",
              "        dataTable['output_type'] = 'display_data';\n",
              "        await google.colab.output.renderOutput(dataTable, element);\n",
              "        const docLink = document.createElement('div');\n",
              "        docLink.innerHTML = docLinkHtml;\n",
              "        element.appendChild(docLink);\n",
              "      }\n",
              "    </script>\n",
              "  </div>\n",
              "\n",
              "\n",
              "    <div id=\"df-37d4207a-862b-4f7f-ba5d-c331062dd2a4\">\n",
              "      <button class=\"colab-df-quickchart\" onclick=\"quickchart('df-37d4207a-862b-4f7f-ba5d-c331062dd2a4')\"\n",
              "                title=\"Suggest charts\"\n",
              "                style=\"display:none;\">\n",
              "\n",
              "<svg xmlns=\"http://www.w3.org/2000/svg\" height=\"24px\"viewBox=\"0 0 24 24\"\n",
              "     width=\"24px\">\n",
              "    <g>\n",
              "        <path d=\"M19 3H5c-1.1 0-2 .9-2 2v14c0 1.1.9 2 2 2h14c1.1 0 2-.9 2-2V5c0-1.1-.9-2-2-2zM9 17H7v-7h2v7zm4 0h-2V7h2v10zm4 0h-2v-4h2v4z\"/>\n",
              "    </g>\n",
              "</svg>\n",
              "      </button>\n",
              "\n",
              "<style>\n",
              "  .colab-df-quickchart {\n",
              "      --bg-color: #E8F0FE;\n",
              "      --fill-color: #1967D2;\n",
              "      --hover-bg-color: #E2EBFA;\n",
              "      --hover-fill-color: #174EA6;\n",
              "      --disabled-fill-color: #AAA;\n",
              "      --disabled-bg-color: #DDD;\n",
              "  }\n",
              "\n",
              "  [theme=dark] .colab-df-quickchart {\n",
              "      --bg-color: #3B4455;\n",
              "      --fill-color: #D2E3FC;\n",
              "      --hover-bg-color: #434B5C;\n",
              "      --hover-fill-color: #FFFFFF;\n",
              "      --disabled-bg-color: #3B4455;\n",
              "      --disabled-fill-color: #666;\n",
              "  }\n",
              "\n",
              "  .colab-df-quickchart {\n",
              "    background-color: var(--bg-color);\n",
              "    border: none;\n",
              "    border-radius: 50%;\n",
              "    cursor: pointer;\n",
              "    display: none;\n",
              "    fill: var(--fill-color);\n",
              "    height: 32px;\n",
              "    padding: 0;\n",
              "    width: 32px;\n",
              "  }\n",
              "\n",
              "  .colab-df-quickchart:hover {\n",
              "    background-color: var(--hover-bg-color);\n",
              "    box-shadow: 0 1px 2px rgba(60, 64, 67, 0.3), 0 1px 3px 1px rgba(60, 64, 67, 0.15);\n",
              "    fill: var(--button-hover-fill-color);\n",
              "  }\n",
              "\n",
              "  .colab-df-quickchart-complete:disabled,\n",
              "  .colab-df-quickchart-complete:disabled:hover {\n",
              "    background-color: var(--disabled-bg-color);\n",
              "    fill: var(--disabled-fill-color);\n",
              "    box-shadow: none;\n",
              "  }\n",
              "\n",
              "  .colab-df-spinner {\n",
              "    border: 2px solid var(--fill-color);\n",
              "    border-color: transparent;\n",
              "    border-bottom-color: var(--fill-color);\n",
              "    animation:\n",
              "      spin 1s steps(1) infinite;\n",
              "  }\n",
              "\n",
              "  @keyframes spin {\n",
              "    0% {\n",
              "      border-color: transparent;\n",
              "      border-bottom-color: var(--fill-color);\n",
              "      border-left-color: var(--fill-color);\n",
              "    }\n",
              "    20% {\n",
              "      border-color: transparent;\n",
              "      border-left-color: var(--fill-color);\n",
              "      border-top-color: var(--fill-color);\n",
              "    }\n",
              "    30% {\n",
              "      border-color: transparent;\n",
              "      border-left-color: var(--fill-color);\n",
              "      border-top-color: var(--fill-color);\n",
              "      border-right-color: var(--fill-color);\n",
              "    }\n",
              "    40% {\n",
              "      border-color: transparent;\n",
              "      border-right-color: var(--fill-color);\n",
              "      border-top-color: var(--fill-color);\n",
              "    }\n",
              "    60% {\n",
              "      border-color: transparent;\n",
              "      border-right-color: var(--fill-color);\n",
              "    }\n",
              "    80% {\n",
              "      border-color: transparent;\n",
              "      border-right-color: var(--fill-color);\n",
              "      border-bottom-color: var(--fill-color);\n",
              "    }\n",
              "    90% {\n",
              "      border-color: transparent;\n",
              "      border-bottom-color: var(--fill-color);\n",
              "    }\n",
              "  }\n",
              "</style>\n",
              "\n",
              "      <script>\n",
              "        async function quickchart(key) {\n",
              "          const quickchartButtonEl =\n",
              "            document.querySelector('#' + key + ' button');\n",
              "          quickchartButtonEl.disabled = true;  // To prevent multiple clicks.\n",
              "          quickchartButtonEl.classList.add('colab-df-spinner');\n",
              "          try {\n",
              "            const charts = await google.colab.kernel.invokeFunction(\n",
              "                'suggestCharts', [key], {});\n",
              "          } catch (error) {\n",
              "            console.error('Error during call to suggestCharts:', error);\n",
              "          }\n",
              "          quickchartButtonEl.classList.remove('colab-df-spinner');\n",
              "          quickchartButtonEl.classList.add('colab-df-quickchart-complete');\n",
              "        }\n",
              "        (() => {\n",
              "          let quickchartButtonEl =\n",
              "            document.querySelector('#df-37d4207a-862b-4f7f-ba5d-c331062dd2a4 button');\n",
              "          quickchartButtonEl.style.display =\n",
              "            google.colab.kernel.accessAllowed ? 'block' : 'none';\n",
              "        })();\n",
              "      </script>\n",
              "    </div>\n",
              "\n",
              "    </div>\n",
              "  </div>\n"
            ],
            "application/vnd.google.colaboratory.intrinsic+json": {
              "type": "dataframe",
              "summary": "{\n  \"name\": \"df\",\n  \"rows\": 8,\n  \"fields\": [\n    {\n      \"column\": \"Gender\",\n      \"properties\": {\n        \"dtype\": \"number\",\n        \"std\": 502.1964742253567,\n        \"min\": 0.0,\n        \"max\": 1421.0,\n        \"num_unique_values\": 5,\n        \"samples\": [\n          0.5207600281491908,\n          1.0,\n          0.499744708889547\n        ],\n        \"semantic_type\": \"\",\n        \"description\": \"\"\n      }\n    },\n    {\n      \"column\": \"Hemoglobin\",\n      \"properties\": {\n        \"dtype\": \"number\",\n        \"std\": 498.44327138320114,\n        \"min\": 1.974545669099527,\n        \"max\": 1421.0,\n        \"num_unique_values\": 8,\n        \"samples\": [\n          13.412737508796623,\n          13.2,\n          1421.0\n        ],\n        \"semantic_type\": \"\",\n        \"description\": \"\"\n      }\n    },\n    {\n      \"column\": \"MCH\",\n      \"properties\": {\n        \"dtype\": \"number\",\n        \"std\": 495.33057799692955,\n        \"min\": 3.9693752800142206,\n        \"max\": 1421.0,\n        \"num_unique_values\": 8,\n        \"samples\": [\n          22.90562983814215,\n          22.7,\n          1421.0\n        ],\n        \"semantic_type\": \"\",\n        \"description\": \"\"\n      }\n    },\n    {\n      \"column\": \"MCHC\",\n      \"properties\": {\n        \"dtype\": \"number\",\n        \"std\": 493.274148352283,\n        \"min\": 1.4008976862509868,\n        \"max\": 1421.0,\n        \"num_unique_values\": 8,\n        \"samples\": [\n          30.251231527093594,\n          30.4,\n          1421.0\n        ],\n        \"semantic_type\": \"\",\n        \"description\": \"\"\n      }\n    },\n    {\n      \"column\": \"MCV\",\n      \"properties\": {\n        \"dtype\": \"number\",\n        \"std\": 476.8257134359344,\n        \"min\": 9.636701265962927,\n        \"max\": 1421.0,\n        \"num_unique_values\": 8,\n        \"samples\": [\n          85.5237860661506,\n          85.3,\n          1421.0\n        ],\n        \"semantic_type\": \"\",\n        \"description\": \"\"\n      }\n    },\n    {\n      \"column\": \"Result\",\n      \"properties\": {\n        \"dtype\": \"number\",\n        \"std\": 502.25143054669394,\n        \"min\": 0.0,\n        \"max\": 1421.0,\n        \"num_unique_values\": 5,\n        \"samples\": [\n          0.4363124560168895,\n          1.0,\n          0.4961019014967407\n        ],\n        \"semantic_type\": \"\",\n        \"description\": \"\"\n      }\n    }\n  ]\n}"
            }
          },
          "metadata": {},
          "execution_count": 6
        }
      ]
    },
    {
      "cell_type": "markdown",
      "source": [
        "Tabel di atas menunjukkan statistik deskriptif dari setiap kolom dalam dataset. Informasi seperti count (jumlah data), mean (rata-rata), std (simpangan baku), serta min, max, dan kuartil digunakan untuk melihat sebaran data.\n",
        "\n",
        "Sebagian besar kolom memiliki distribusi nilai yang normal. Namun, pada kolom seperti Hemoglobin, MCV, dan MCH terlihat adanya rentang nilai yang cukup lebar dan standar deviasi yang tinggi, yang mengindikasikan kemungkinan adanya outlier. Oleh karena itu, perlu dilakukan analisis lanjutan seperti visualisasi boxplot untuk memastikan dan menangani outlier sebelum proses modeling."
      ],
      "metadata": {
        "id": "hFHJ7KlQHCbm"
      }
    },
    {
      "cell_type": "markdown",
      "source": [
        "## Membuat visualisasi boxplot untuk mengidentifikasi Outlier pada tiap kolom dalam dataset"
      ],
      "metadata": {
        "id": "l7WFWHtXfk9G"
      }
    },
    {
      "cell_type": "code",
      "source": [
        "def show_boxplots(df):\n",
        "  rows = int(np.ceil(np.sqrt(len(df.columns))))\n",
        "  cols = int(np.ceil(len(df.columns) / rows))\n",
        "  print(rows,cols)\n",
        "  fig, ax = plt.subplots(rows, cols, figsize=(10*cols, 10*rows))\n",
        "  ax = ax.flatten()\n",
        "  for (idx , feature) in enumerate(df.columns):\n",
        "    sns.boxplot(df[feature], ax=ax[idx])\n",
        "    ax[idx].set_title(feature)\n",
        "\n",
        "  for j in range(idx + 1, len(ax)):\n",
        "      fig.delaxes(ax[j])\n",
        "  plt.tight_layout()\n",
        "  plt.show()\n",
        "\n",
        "show_boxplots(df)"
      ],
      "metadata": {
        "colab": {
          "base_uri": "https://localhost:8080/",
          "height": 1000
        },
        "id": "-3p8ghvV0dyD",
        "outputId": "75192d50-d824-4c87-e162-f00c776942c9"
      },
      "execution_count": null,
      "outputs": [
        {
          "output_type": "stream",
          "name": "stdout",
          "text": [
            "3 2\n"
          ]
        },
        {
          "output_type": "display_data",
          "data": {
            "text/plain": [
              "<Figure size 2000x3000 with 6 Axes>"
            ],
            "image/png": "[encoded data removed]"
          },
          "metadata": {}
        }
      ]
    },
    {
      "cell_type": "markdown",
      "source": [
        "Visualisasi boxplot di atas digunakan untuk melihat distribusi nilai dan mendeteksi kemungkinan adanya outlier. Dari hasil visualisasi, sebagian besar kolom seperti MCH, MCHC, dan MCV tidak menunjukkan adanya outlier yang mencolok. Namun, pada kolom Hemoglobin terlihat terdapat satu nilai yang berada jauh di bawah rentang utama data.\n",
        "\n",
        "Meskipun secara statistik nilai tersebut termasuk outlier, saya memutuskan tidak menghapusnya. Hal ini karena nilai ekstrem tersebut justru dapat merepresentasikan kondisi anemia berat, yang penting untuk dipertahankan dalam konteks analisis. Menghapus outlier seperti ini dapat mengurangi variasi dan representasi kasus nyata dalam data, sehingga akan mempengaruhi akurasi dan generalisasi model yang dikembangkan."
      ],
      "metadata": {
        "id": "iP0jSOzLO78Z"
      }
    },
    {
      "cell_type": "markdown",
      "source": [
        "## Mengecek nilai kosong di dalam setiap kolom pada dataset"
      ],
      "metadata": {
        "id": "PHw23BtiftV7"
      }
    },
    {
      "cell_type": "code",
      "source": [
        "df.isna().sum()"
      ],
      "metadata": {
        "colab": {
          "base_uri": "https://localhost:8080/",
          "height": 273
        },
        "id": "pcN0ZvzX-NBq",
        "outputId": "7477c069-2014-4be8-ec5e-f46a704af90d"
      },
      "execution_count": null,
      "outputs": [
        {
          "output_type": "execute_result",
          "data": {
            "text/plain": [
              "Gender        0\n",
              "Hemoglobin    0\n",
              "MCH           0\n",
              "MCHC          0\n",
              "MCV           0\n",
              "Result        0\n",
              "dtype: int64"
            ],
            "text/html": [
              "<div>\n",
              "<style scoped>\n",
              "    .dataframe tbody tr th:only-of-type {\n",
              "        vertical-align: middle;\n",
              "    }\n",
              "\n",
              "    .dataframe tbody tr th {\n",
              "        vertical-align: top;\n",
              "    }\n",
              "\n",
              "    .dataframe thead th {\n",
              "        text-align: right;\n",
              "    }\n",
              "</style>\n",
              "<table border=\"1\" class=\"dataframe\">\n",
              "  <thead>\n",
              "    <tr style=\"text-align: right;\">\n",
              "      <th></th>\n",
              "      <th>0</th>\n",
              "    </tr>\n",
              "  </thead>\n",
              "  <tbody>\n",
              "    <tr>\n",
              "      <th>Gender</th>\n",
              "      <td>0</td>\n",
              "    </tr>\n",
              "    <tr>\n",
              "      <th>Hemoglobin</th>\n",
              "      <td>0</td>\n",
              "    </tr>\n",
              "    <tr>\n",
              "      <th>MCH</th>\n",
              "      <td>0</td>\n",
              "    </tr>\n",
              "    <tr>\n",
              "      <th>MCHC</th>\n",
              "      <td>0</td>\n",
              "    </tr>\n",
              "    <tr>\n",
              "      <th>MCV</th>\n",
              "      <td>0</td>\n",
              "    </tr>\n",
              "    <tr>\n",
              "      <th>Result</th>\n",
              "      <td>0</td>\n",
              "    </tr>\n",
              "  </tbody>\n",
              "</table>\n",
              "</div><br><label><b>dtype:</b> int64</label>"
            ]
          },
          "metadata": {},
          "execution_count": 8
        }
      ]
    },
    {
      "cell_type": "markdown",
      "source": [
        "Dari tabel terlihat tida adanya missing value sehingga tidak perlu dilakukan tindakan lebih lanjut"
      ],
      "metadata": {
        "id": "amXr8GfDSA-k"
      }
    },
    {
      "cell_type": "markdown",
      "source": [
        "## Mengecek nilai duplikat pada setiap kolom di dalam dataset"
      ],
      "metadata": {
        "id": "Z9u467ezfyNR"
      }
    },
    {
      "cell_type": "code",
      "source": [
        "df.duplicated().sum()\n"
      ],
      "metadata": {
        "id": "gchmMfoM-RNn",
        "colab": {
          "base_uri": "https://localhost:8080/"
        },
        "outputId": "28b7bdb6-a6fa-4fa6-b759-e13784d28161"
      },
      "execution_count": null,
      "outputs": [
        {
          "output_type": "execute_result",
          "data": {
            "text/plain": [
              "np.int64(887)"
            ]
          },
          "metadata": {},
          "execution_count": 9
        }
      ]
    },
    {
      "cell_type": "markdown",
      "source": [
        "Terdapat 887 data duplikat sehingga diperlukan analisis lanjutan apakah data memang harus dihapus atau dipertahankan"
      ],
      "metadata": {
        "id": "7UBmdLaDShT5"
      }
    },
    {
      "cell_type": "code",
      "source": [
        "df[df.duplicated()].head()\n"
      ],
      "metadata": {
        "colab": {
          "base_uri": "https://localhost:8080/",
          "height": 206
        },
        "id": "o47yPThA26GK",
        "outputId": "9651ce18-d394-4cb2-d0d0-2030b4a3cf28"
      },
      "execution_count": null,
      "outputs": [
        {
          "output_type": "execute_result",
          "data": {
            "text/plain": [
              "     Gender  Hemoglobin   MCH  MCHC   MCV  Result\n",
              "237       1        14.9  22.7  29.1  83.7       0\n",
              "238       0        15.9  25.4  28.3  72.0       0\n",
              "240       0        14.9  16.0  31.4  87.5       0\n",
              "242       0        11.6  22.3  30.9  74.5       1\n",
              "243       1        12.7  19.5  28.9  82.9       1"
            ],
            "text/html": [
              "\n",
              "  <div id=\"df-6fbf7fac-7d2c-479f-b5ee-2d404225e100\" class=\"colab-df-container\">\n",
              "    <div>\n",
              "<style scoped>\n",
              "    .dataframe tbody tr th:only-of-type {\n",
              "        vertical-align: middle;\n",
              "    }\n",
              "\n",
              "    .dataframe tbody tr th {\n",
              "        vertical-align: top;\n",
              "    }\n",
              "\n",
              "    .dataframe thead th {\n",
              "        text-align: right;\n",
              "    }\n",
              "</style>\n",
              "<table border=\"1\" class=\"dataframe\">\n",
              "  <thead>\n",
              "    <tr style=\"text-align: right;\">\n",
              "      <th></th>\n",
              "      <th>Gender</th>\n",
              "      <th>Hemoglobin</th>\n",
              "      <th>MCH</th>\n",
              "      <th>MCHC</th>\n",
              "      <th>MCV</th>\n",
              "      <th>Result</th>\n",
              "    </tr>\n",
              "  </thead>\n",
              "  <tbody>\n",
              "    <tr>\n",
              "      <th>237</th>\n",
              "      <td>1</td>\n",
              "      <td>14.9</td>\n",
              "      <td>22.7</td>\n",
              "      <td>29.1</td>\n",
              "      <td>83.7</td>\n",
              "      <td>0</td>\n",
              "    </tr>\n",
              "    <tr>\n",
              "      <th>238</th>\n",
              "      <td>0</td>\n",
              "      <td>15.9</td>\n",
              "      <td>25.4</td>\n",
              "      <td>28.3</td>\n",
              "      <td>72.0</td>\n",
              "      <td>0</td>\n",
              "    </tr>\n",
              "    <tr>\n",
              "      <th>240</th>\n",
              "      <td>0</td>\n",
              "      <td>14.9</td>\n",
              "      <td>16.0</td>\n",
              "      <td>31.4</td>\n",
              "      <td>87.5</td>\n",
              "      <td>0</td>\n",
              "    </tr>\n",
              "    <tr>\n",
              "      <th>242</th>\n",
              "      <td>0</td>\n",
              "      <td>11.6</td>\n",
              "      <td>22.3</td>\n",
              "      <td>30.9</td>\n",
              "      <td>74.5</td>\n",
              "      <td>1</td>\n",
              "    </tr>\n",
              "    <tr>\n",
              "      <th>243</th>\n",
              "      <td>1</td>\n",
              "      <td>12.7</td>\n",
              "      <td>19.5</td>\n",
              "      <td>28.9</td>\n",
              "      <td>82.9</td>\n",
              "      <td>1</td>\n",
              "    </tr>\n",
              "  </tbody>\n",
              "</table>\n",
              "</div>\n",
              "    <div class=\"colab-df-buttons\">\n",
              "\n",
              "  <div class=\"colab-df-container\">\n",
              "    <button class=\"colab-df-convert\" onclick=\"convertToInteractive('df-6fbf7fac-7d2c-479f-b5ee-2d404225e100')\"\n",
              "            title=\"Convert this dataframe to an interactive table.\"\n",
              "            style=\"display:none;\">\n",
              "\n",
              "  <svg xmlns=\"http://www.w3.org/2000/svg\" height=\"24px\" viewBox=\"0 -960 960 960\">\n",
              "    <path d=\"M120-120v-720h720v720H120Zm60-500h600v-160H180v160Zm220 220h160v-160H400v160Zm0 220h160v-160H400v160ZM180-400h160v-160H180v160Zm440 0h160v-160H620v160ZM180-180h160v-160H180v160Zm440 0h160v-160H620v160Z\"/>\n",
              "  </svg>\n",
              "    </button>\n",
              "\n",
              "  <style>\n",
              "    .colab-df-container {\n",
              "      display:flex;\n",
              "      gap: 12px;\n",
              "    }\n",
              "\n",
              "    .colab-df-convert {\n",
              "      background-color: #E8F0FE;\n",
              "      border: none;\n",
              "      border-radius: 50%;\n",
              "      cursor: pointer;\n",
              "      display: none;\n",
              "      fill: #1967D2;\n",
              "      height: 32px;\n",
              "      padding: 0 0 0 0;\n",
              "      width: 32px;\n",
              "    }\n",
              "\n",
              "    .colab-df-convert:hover {\n",
              "      background-color: #E2EBFA;\n",
              "      box-shadow: 0px 1px 2px rgba(60, 64, 67, 0.3), 0px 1px 3px 1px rgba(60, 64, 67, 0.15);\n",
              "      fill: #174EA6;\n",
              "    }\n",
              "\n",
              "    .colab-df-buttons div {\n",
              "      margin-bottom: 4px;\n",
              "    }\n",
              "\n",
              "    [theme=dark] .colab-df-convert {\n",
              "      background-color: #3B4455;\n",
              "      fill: #D2E3FC;\n",
              "    }\n",
              "\n",
              "    [theme=dark] .colab-df-convert:hover {\n",
              "      background-color: #434B5C;\n",
              "      box-shadow: 0px 1px 3px 1px rgba(0, 0, 0, 0.15);\n",
              "      filter: drop-shadow(0px 1px 2px rgba(0, 0, 0, 0.3));\n",
              "      fill: #FFFFFF;\n",
              "    }\n",
              "  </style>\n",
              "\n",
              "    <script>\n",
              "      const buttonEl =\n",
              "        document.querySelector('#df-6fbf7fac-7d2c-479f-b5ee-2d404225e100 button.colab-df-convert');\n",
              "      buttonEl.style.display =\n",
              "        google.colab.kernel.accessAllowed ? 'block' : 'none';\n",
              "\n",
              "      async function convertToInteractive(key) {\n",
              "        const element = document.querySelector('#df-6fbf7fac-7d2c-479f-b5ee-2d404225e100');\n",
              "        const dataTable =\n",
              "          await google.colab.kernel.invokeFunction('convertToInteractive',\n",
              "                                                    [key], {});\n",
              "        if (!dataTable) return;\n",
              "\n",
              "        const docLinkHtml = 'Like what you see? Visit the ' +\n",
              "          '<a target=\"_blank\" href=https://colab.research.google.com/notebooks/data_table.ipynb>data table notebook</a>'\n",
              "          + ' to learn more about interactive tables.';\n",
              "        element.innerHTML = '';\n",
              "        dataTable['output_type'] = 'display_data';\n",
              "        await google.colab.output.renderOutput(dataTable, element);\n",
              "        const docLink = document.createElement('div');\n",
              "        docLink.innerHTML = docLinkHtml;\n",
              "        element.appendChild(docLink);\n",
              "      }\n",
              "    </script>\n",
              "  </div>\n",
              "\n",
              "\n",
              "    <div id=\"df-44b48b0c-8b6a-4c32-b106-7b2e1936c0cc\">\n",
              "      <button class=\"colab-df-quickchart\" onclick=\"quickchart('df-44b48b0c-8b6a-4c32-b106-7b2e1936c0cc')\"\n",
              "                title=\"Suggest charts\"\n",
              "                style=\"display:none;\">\n",
              "\n",
              "<svg xmlns=\"http://www.w3.org/2000/svg\" height=\"24px\"viewBox=\"0 0 24 24\"\n",
              "     width=\"24px\">\n",
              "    <g>\n",
              "        <path d=\"M19 3H5c-1.1 0-2 .9-2 2v14c0 1.1.9 2 2 2h14c1.1 0 2-.9 2-2V5c0-1.1-.9-2-2-2zM9 17H7v-7h2v7zm4 0h-2V7h2v10zm4 0h-2v-4h2v4z\"/>\n",
              "    </g>\n",
              "</svg>\n",
              "      </button>\n",
              "\n",
              "<style>\n",
              "  .colab-df-quickchart {\n",
              "      --bg-color: #E8F0FE;\n",
              "      --fill-color: #1967D2;\n",
              "      --hover-bg-color: #E2EBFA;\n",
              "      --hover-fill-color: #174EA6;\n",
              "      --disabled-fill-color: #AAA;\n",
              "      --disabled-bg-color: #DDD;\n",
              "  }\n",
              "\n",
              "  [theme=dark] .colab-df-quickchart {\n",
              "      --bg-color: #3B4455;\n",
              "      --fill-color: #D2E3FC;\n",
              "      --hover-bg-color: #434B5C;\n",
              "      --hover-fill-color: #FFFFFF;\n",
              "      --disabled-bg-color: #3B4455;\n",
              "      --disabled-fill-color: #666;\n",
              "  }\n",
              "\n",
              "  .colab-df-quickchart {\n",
              "    background-color: var(--bg-color);\n",
              "    border: none;\n",
              "    border-radius: 50%;\n",
              "    cursor: pointer;\n",
              "    display: none;\n",
              "    fill: var(--fill-color);\n",
              "    height: 32px;\n",
              "    padding: 0;\n",
              "    width: 32px;\n",
              "  }\n",
              "\n",
              "  .colab-df-quickchart:hover {\n",
              "    background-color: var(--hover-bg-color);\n",
              "    box-shadow: 0 1px 2px rgba(60, 64, 67, 0.3), 0 1px 3px 1px rgba(60, 64, 67, 0.15);\n",
              "    fill: var(--button-hover-fill-color);\n",
              "  }\n",
              "\n",
              "  .colab-df-quickchart-complete:disabled,\n",
              "  .colab-df-quickchart-complete:disabled:hover {\n",
              "    background-color: var(--disabled-bg-color);\n",
              "    fill: var(--disabled-fill-color);\n",
              "    box-shadow: none;\n",
              "  }\n",
              "\n",
              "  .colab-df-spinner {\n",
              "    border: 2px solid var(--fill-color);\n",
              "    border-color: transparent;\n",
              "    border-bottom-color: var(--fill-color);\n",
              "    animation:\n",
              "      spin 1s steps(1) infinite;\n",
              "  }\n",
              "\n",
              "  @keyframes spin {\n",
              "    0% {\n",
              "      border-color: transparent;\n",
              "      border-bottom-color: var(--fill-color);\n",
              "      border-left-color: var(--fill-color);\n",
              "    }\n",
              "    20% {\n",
              "      border-color: transparent;\n",
              "      border-left-color: var(--fill-color);\n",
              "      border-top-color: var(--fill-color);\n",
              "    }\n",
              "    30% {\n",
              "      border-color: transparent;\n",
              "      border-left-color: var(--fill-color);\n",
              "      border-top-color: var(--fill-color);\n",
              "      border-right-color: var(--fill-color);\n",
              "    }\n",
              "    40% {\n",
              "      border-color: transparent;\n",
              "      border-right-color: var(--fill-color);\n",
              "      border-top-color: var(--fill-color);\n",
              "    }\n",
              "    60% {\n",
              "      border-color: transparent;\n",
              "      border-right-color: var(--fill-color);\n",
              "    }\n",
              "    80% {\n",
              "      border-color: transparent;\n",
              "      border-right-color: var(--fill-color);\n",
              "      border-bottom-color: var(--fill-color);\n",
              "    }\n",
              "    90% {\n",
              "      border-color: transparent;\n",
              "      border-bottom-color: var(--fill-color);\n",
              "    }\n",
              "  }\n",
              "</style>\n",
              "\n",
              "      <script>\n",
              "        async function quickchart(key) {\n",
              "          const quickchartButtonEl =\n",
              "            document.querySelector('#' + key + ' button');\n",
              "          quickchartButtonEl.disabled = true;  // To prevent multiple clicks.\n",
              "          quickchartButtonEl.classList.add('colab-df-spinner');\n",
              "          try {\n",
              "            const charts = await google.colab.kernel.invokeFunction(\n",
              "                'suggestCharts', [key], {});\n",
              "          } catch (error) {\n",
              "            console.error('Error during call to suggestCharts:', error);\n",
              "          }\n",
              "          quickchartButtonEl.classList.remove('colab-df-spinner');\n",
              "          quickchartButtonEl.classList.add('colab-df-quickchart-complete');\n",
              "        }\n",
              "        (() => {\n",
              "          let quickchartButtonEl =\n",
              "            document.querySelector('#df-44b48b0c-8b6a-4c32-b106-7b2e1936c0cc button');\n",
              "          quickchartButtonEl.style.display =\n",
              "            google.colab.kernel.accessAllowed ? 'block' : 'none';\n",
              "        })();\n",
              "      </script>\n",
              "    </div>\n",
              "\n",
              "    </div>\n",
              "  </div>\n"
            ],
            "application/vnd.google.colaboratory.intrinsic+json": {
              "type": "dataframe",
              "summary": "{\n  \"name\": \"df[df\",\n  \"rows\": 5,\n  \"fields\": [\n    {\n      \"column\": \"Gender\",\n      \"properties\": {\n        \"dtype\": \"number\",\n        \"std\": 0,\n        \"min\": 0,\n        \"max\": 1,\n        \"num_unique_values\": 2,\n        \"samples\": [\n          0,\n          1\n        ],\n        \"semantic_type\": \"\",\n        \"description\": \"\"\n      }\n    },\n    {\n      \"column\": \"Hemoglobin\",\n      \"properties\": {\n        \"dtype\": \"number\",\n        \"std\": 1.780449381476486,\n        \"min\": 11.6,\n        \"max\": 15.9,\n        \"num_unique_values\": 4,\n        \"samples\": [\n          15.9,\n          12.7\n        ],\n        \"semantic_type\": \"\",\n        \"description\": \"\"\n      }\n    },\n    {\n      \"column\": \"MCH\",\n      \"properties\": {\n        \"dtype\": \"number\",\n        \"std\": 3.5716942758304495,\n        \"min\": 16.0,\n        \"max\": 25.4,\n        \"num_unique_values\": 5,\n        \"samples\": [\n          25.4,\n          19.5\n        ],\n        \"semantic_type\": \"\",\n        \"description\": \"\"\n      }\n    },\n    {\n      \"column\": \"MCHC\",\n      \"properties\": {\n        \"dtype\": \"number\",\n        \"std\": 1.3498148021117555,\n        \"min\": 28.3,\n        \"max\": 31.4,\n        \"num_unique_values\": 5,\n        \"samples\": [\n          28.3,\n          28.9\n        ],\n        \"semantic_type\": \"\",\n        \"description\": \"\"\n      }\n    },\n    {\n      \"column\": \"MCV\",\n      \"properties\": {\n        \"dtype\": \"number\",\n        \"std\": 6.567495717547138,\n        \"min\": 72.0,\n        \"max\": 87.5,\n        \"num_unique_values\": 5,\n        \"samples\": [\n          72.0,\n          82.9\n        ],\n        \"semantic_type\": \"\",\n        \"description\": \"\"\n      }\n    },\n    {\n      \"column\": \"Result\",\n      \"properties\": {\n        \"dtype\": \"number\",\n        \"std\": 0,\n        \"min\": 0,\n        \"max\": 1,\n        \"num_unique_values\": 2,\n        \"samples\": [\n          1,\n          0\n        ],\n        \"semantic_type\": \"\",\n        \"description\": \"\"\n      }\n    }\n  ]\n}"
            }
          },
          "metadata": {},
          "execution_count": 12
        }
      ]
    },
    {
      "cell_type": "markdown",
      "source": [
        "Berdasarkan hasil analisis terhadap dataset, ditemukan bahwa sebanyak 887 dari 1421 baris (sekitar 62%) merupakan duplikat total, yaitu baris yang memiliki nilai identik di seluruh kolom. Hal ini terlihat dari hasil df[df.duplicated()], yang menunjukkan bahwa beberapa entri benar-benar sama, baik dari sisi fitur maupun label hasil diagnosis (Result).\n",
        "\n",
        "Penghapusan data duplikat ini perlu dilakukan dengan pertimbangan bahwa:\n",
        "\n",
        "* Baris-baris tersebut tidak menambah informasi baru, karena datanya persis sama dengan baris lain.\n",
        "* Keberadaan data identik dalam jumlah besar dapat menyebabkan bias pada model machine learning, karena model akan lebih sering belajar dari pola yang diulang-ulang.\n",
        "* Menghapus duplikat membantu meningkatkan efisiensi komputasi dan membuat analisis menjadi lebih representatif terhadap variasi data asli.\n",
        "\n",
        "Namun, keputusan ini juga mempertimbangkan risiko pengurangan jumlah data. Setelah dihapus, data berkurang menjadi sekitar 534 baris unik, yang masih dianggap cukup untuk proses eksplorasi dan modeling awal, meskipun tetap perlu diuji kestabilan performa modelnya.\n",
        "\n",
        "Dengan demikian, penghapusan data duplikat dilakukan untuk menjaga kualitas dan keakuratan analisis, tanpa mengorbankan keberagaman informasi yang ada dalam dataset.\n"
      ],
      "metadata": {
        "id": "FsfZ3SFv4zfa"
      }
    },
    {
      "cell_type": "markdown",
      "source": [
        "## Membuat Pie Chart untuk visualisasi distribusi kelas atau label pada dataset"
      ],
      "metadata": {
        "id": "YUUxNBHBf5e1"
      }
    },
    {
      "cell_type": "code",
      "source": [
        "plt.pie(df['Result'].value_counts(), labels = df['Result'].value_counts().index, autopct='%1.1f%%')\n",
        "plt.title('Distribusi label Result')\n",
        "plt.show()"
      ],
      "metadata": {
        "colab": {
          "base_uri": "https://localhost:8080/",
          "height": 428
        },
        "id": "zdybcMOu-YOY",
        "outputId": "e27bef3f-7193-45fb-87a3-950bdd47d1a9"
      },
      "execution_count": null,
      "outputs": [
        {
          "output_type": "display_data",
          "data": {
            "text/plain": [
              "<Figure size 640x480 with 1 Axes>"
            ],
            "image/png": "[encoded data removed]"
          },
          "metadata": {}
        }
      ]
    },
    {
      "cell_type": "markdown",
      "source": [
        "## Membuat Bar Chart untuk visualisasi distribusi kelas atau label pada dataset"
      ],
      "metadata": {
        "id": "HyIBMQucgN0M"
      }
    },
    {
      "cell_type": "code",
      "source": [
        "sns.countplot(x='Result', data=df)\n",
        "plt.title('Distribusi label Result')\n",
        "plt.show()"
      ],
      "metadata": {
        "id": "WN9BZH8suVT5",
        "outputId": "513598cf-7f6a-4066-d35a-55f130d4ec4f",
        "colab": {
          "base_uri": "https://localhost:8080/",
          "height": 472
        }
      },
      "execution_count": null,
      "outputs": [
        {
          "output_type": "display_data",
          "data": {
            "text/plain": [
              "<Figure size 640x480 with 1 Axes>"
            ],
            "image/png": "[encoded data removed]"
          },
          "metadata": {}
        }
      ]
    },
    {
      "cell_type": "markdown",
      "source": [
        "Dari hasil visualisasi di atas dapat terlihat distribusi label pada dataset menunjukkan proporsi yang cukup seimbang antara kelas negatif dan positif anemia. Oleh karena itu, teknik augmentasi data tidak menjadi kebutuhan utama dalam tahap awal pemodelan. Penggunaan augmentasi justru dapat menimbulkan risiko jika tidak dikontrol dengan baik"
      ],
      "metadata": {
        "id": "4sbrPAYkeq8a"
      }
    },
    {
      "cell_type": "markdown",
      "source": [
        "## Membuat grafik histogram untuk mengidentifikasi distribusi data dari setiap kolom."
      ],
      "metadata": {
        "id": "2IRvHpChYGlv"
      }
    },
    {
      "cell_type": "code",
      "source": [
        "rows = int(np.ceil(np.sqrt(len(df.columns))))\n",
        "cols = int(np.ceil(len(df.columns) / rows))\n",
        "fig, ax = plt.subplots(rows, cols, figsize=(10*cols, 10*rows))\n",
        "ax = ax.flatten()\n",
        "for idx , column in enumerate(df.columns):\n",
        "  ax[idx].hist(x = df[column] , bins=50)\n",
        "  ax[idx].set_title(column)\n",
        "plt.show()"
      ],
      "metadata": {
        "colab": {
          "base_uri": "https://localhost:8080/",
          "height": 1000
        },
        "id": "6PmpjTL5TrO2",
        "outputId": "91992cfd-4363-4eef-f79b-084b5f70d581"
      },
      "execution_count": null,
      "outputs": [
        {
          "output_type": "display_data",
          "data": {
            "text/plain": [
              "<Figure size 2000x3000 with 6 Axes>"
            ],
            "image/png": "[encoded data removed]"
          },
          "metadata": {}
        }
      ]
    },
    {
      "cell_type": "markdown",
      "source": [
        "Berdasarkan sebaran data pada histogram, fitur numerik seperti Hemoglobin, MCH, MCHC, dan MCV menunjukkan distribusi yang tidak normal dan rentang nilai yang bervariasi. Oleh karena itu, normalisasi data sangat disarankan agar model machine learning dapat mempelajari pola dengan lebih adil dan optimal, terutama jika menggunakan algoritma yang sensitif terhadap skala data."
      ],
      "metadata": {
        "id": "pIBg4ge7WoSg"
      }
    },
    {
      "cell_type": "markdown",
      "source": [
        "## Membuat Heat map untuk visualisasi korelasi antar kolom dalam dataset"
      ],
      "metadata": {
        "id": "L9x6hukBgRvV"
      }
    },
    {
      "cell_type": "code",
      "source": [
        "corr = df.corr()\n",
        "plt.figure(figsize=(15,10))\n",
        "sns.heatmap(corr, annot=True, cmap='coolwarm')\n",
        "plt.title('Correlation Matrix')\n",
        "plt.show()"
      ],
      "metadata": {
        "colab": {
          "base_uri": "https://localhost:8080/",
          "height": 853
        },
        "id": "OUx_KO2AODK2",
        "outputId": "d1664e2f-fee2-4049-ca63-29a886a3a2ff"
      },
      "execution_count": null,
      "outputs": [
        {
          "output_type": "display_data",
          "data": {
            "text/plain": [
              "<Figure size 1500x1000 with 2 Axes>"
            ],
            "image/png": "[encoded data removed]"
          },
          "metadata": {}
        }
      ]
    },
    {
      "cell_type": "markdown",
      "source": [
        "Berdasarkan hasil visualisasi korelasi (heatmap), dapat dilihat bahwa sebagian besar fitur dalam dataset anemia memiliki tingkat korelasi yang rendah terhadap label target Result. Korelasi tertinggi ditemukan antara fitur `Gender dengan Result sebesar 0.23, sedangkan korelasi terendah adalah antara Hemoglobin dengan Result sebesar -0.79. Nilai korelasi negatif yang cukup kuat ini menunjukkan bahwa semakin rendah nilai hemoglobin, semakin besar kemungkinan seseorang mengalami anemia, yang secara medis memang relevan.\n",
        "\n",
        "Fitur-fitur lain seperti MCH, MCHC, dan MCV menunjukkan korelasi sangat lemah terhadap Result, dengan nilai korelasi yang mendekati nol. Hal ini menandakan bahwa tidak ada hubungan linier yang signifikan antara fitur-fitur tersebut dengan label target. Namun, meskipun korelasinya rendah secara linier, fitur-fitur ini tetap dapat memberikan kontribusi terhadap performa model, terutama jika menggunakan algoritma pembelajaran mesin yang mampu menangkap pola non-linier seperti Random Forest atau Neural Network.\n",
        "\n",
        "Secara umum, hasil korelasi ini menunjukkan bahwa fitur Hemoglobin memiliki potensi paling kuat sebagai prediktor utama untuk anemia dalam dataset ini, sedangkan fitur lainnya berperan sebagai pendukung dalam proses klasifikasi. Tidak ada fitur yang perlu dihapus berdasarkan nilai korelasi saja, karena kontribusi fitur bisa lebih kompleks dari sekadar hubungan linier.\n"
      ],
      "metadata": {
        "id": "rRsiHZNZbc9i"
      }
    },
    {
      "cell_type": "markdown",
      "source": [
        "Dari proses EDA yang telah dilakukan, didapatkan beberapa insight terkait dengan dataset, yaitu:\n",
        "\n",
        "* Ditemukan sebanyak 887 data duplikat dari total 1421 baris data, atau sekitar 62% merupakan data yang identik. Penghapusan data duplikat dilakukan untuk menghindari bias pada model serta meningkatkan efisiensi komputasi. Setelah penghapusan, data yang tersisa sebanyak 534 baris unik dan tetap dapat digunakan untuk proses eksplorasi dan pemodelan awal.\n",
        "\n",
        "* Tidak ditemukan missing value pada dataset ini, sehingga tidak dilakukan tindakan lebih lanjut terkait penanganan data kosong.\n",
        "\n",
        "* Hasil visualisasi boxplot menunjukkan bahwa sebagian besar kolom seperti MCH, MCHC, dan MCV tidak memiliki outlier ekstrem. Namun, pada kolom Hemoglobin, terdapat satu nilai rendah yang secara statistik termasuk outlier. Nilai ini tidak dihapus karena masih mungkin merepresentasikan kondisi anemia berat yang valid secara medis, dan tetap dipertahankan agar variasi data tetap mencerminkan kondisi nyata.\n",
        "\n",
        "* Berdasarkan visualisasi pie chart dan bar chart, distribusi label pada kolom Result tampak seimbang antara penderita anemia dan non-anemia. Tidak ditemukan dominasi kelas tertentu dalam jumlah yang signifikan, sehingga kondisi ini tidak menimbulkan permasalahan imbalance pada tahap pemodelan.\n",
        "\n",
        "* Berdasarkan visualisasi histogram, distribusi nilai pada beberapa fitur numerik seperti Hemoglobin, MCH, MCHC, dan MCV tidak mengikuti pola distribusi normal. Beberapa fitur menunjukkan pola right skewed dan ada juga yang left skewed. Dengan kondisi distribusi seperti ini, proses normalisasi diterapkan untuk menyamakan skala dan pola sebaran nilai antar fitur sebelum masuk ke tahap pelatihan model.\n",
        "\n",
        "* Dari hasil visualisasi heatmap, korelasi antar fitur dan label target Result menunjukkan nilai yang bervariasi. Korelasi tertinggi yaitu antara Gender dan Result sebesar 0.23, sedangkan korelasi terendah adalah antara Hemoglobin dan Result sebesar -0.79. Korelasi negatif yang kuat pada hemoglobin menunjukkan hubungan yang relevan secara medis, yaitu semakin rendah kadar hemoglobin, semakin besar kemungkinan seseorang mengalami anemia. Sementara fitur lain seperti MCH, MCHC, dan MCV memiliki korelasi yang mendekati nol terhadap label Result, namun tetap dapat menjadi bagian dari input model karena beberapa algoritma mampu menangkap pola non-linier dari data.\n",
        "\n"
      ],
      "metadata": {
        "id": "O-lWET4TYR9l"
      }
    },
    {
      "cell_type": "markdown",
      "source": [
        "#Data Preparation"
      ],
      "metadata": {
        "id": "0XHVqoJ_wsXw"
      }
    },
    {
      "cell_type": "markdown",
      "source": [
        "## Menhapus Data Duplikat"
      ],
      "metadata": {
        "id": "5Z-V2VsKf2Q9"
      }
    },
    {
      "cell_type": "code",
      "source": [
        "df.drop_duplicates(inplace=True)"
      ],
      "metadata": {
        "id": "zSQ0miPmHoKp"
      },
      "execution_count": null,
      "outputs": []
    },
    {
      "cell_type": "code",
      "source": [
        "df.drop_duplicates(inplace=True)\n",
        "\n",
        "print(df.duplicated().sum())\n",
        "\n",
        "print(\"Contents of the DataFrame after dropping duplicates:\")\n",
        "display(df.head())\n",
        "\n",
        "print(f\"Updated number of rows: {df.shape[0]}\")\n"
      ],
      "metadata": {
        "colab": {
          "base_uri": "https://localhost:8080/",
          "height": 259
        },
        "id": "O28x99FtQ2MS",
        "outputId": "6af99317-f1a5-422e-8b71-c743bf426027"
      },
      "execution_count": null,
      "outputs": [
        {
          "output_type": "stream",
          "name": "stdout",
          "text": [
            "0\n",
            "Contents of the DataFrame after dropping duplicates:\n"
          ]
        },
        {
          "output_type": "display_data",
          "data": {
            "text/plain": [
              "   Gender  Hemoglobin   MCH  MCHC   MCV  Result\n",
              "0       1        14.9  22.7  29.1  83.7       0\n",
              "1       0        15.9  25.4  28.3  72.0       0\n",
              "2       0         9.0  21.5  29.6  71.2       1\n",
              "3       0        14.9  16.0  31.4  87.5       0\n",
              "4       1        14.7  22.0  28.2  99.5       0"
            ],
            "text/html": [
              "\n",
              "  <div id=\"df-782d7c13-d56e-4c3b-9caa-ea498e14551a\" class=\"colab-df-container\">\n",
              "    <div>\n",
              "<style scoped>\n",
              "    .dataframe tbody tr th:only-of-type {\n",
              "        vertical-align: middle;\n",
              "    }\n",
              "\n",
              "    .dataframe tbody tr th {\n",
              "        vertical-align: top;\n",
              "    }\n",
              "\n",
              "    .dataframe thead th {\n",
              "        text-align: right;\n",
              "    }\n",
              "</style>\n",
              "<table border=\"1\" class=\"dataframe\">\n",
              "  <thead>\n",
              "    <tr style=\"text-align: right;\">\n",
              "      <th></th>\n",
              "      <th>Gender</th>\n",
              "      <th>Hemoglobin</th>\n",
              "      <th>MCH</th>\n",
              "      <th>MCHC</th>\n",
              "      <th>MCV</th>\n",
              "      <th>Result</th>\n",
              "    </tr>\n",
              "  </thead>\n",
              "  <tbody>\n",
              "    <tr>\n",
              "      <th>0</th>\n",
              "      <td>1</td>\n",
              "      <td>14.9</td>\n",
              "      <td>22.7</td>\n",
              "      <td>29.1</td>\n",
              "      <td>83.7</td>\n",
              "      <td>0</td>\n",
              "    </tr>\n",
              "    <tr>\n",
              "      <th>1</th>\n",
              "      <td>0</td>\n",
              "      <td>15.9</td>\n",
              "      <td>25.4</td>\n",
              "      <td>28.3</td>\n",
              "      <td>72.0</td>\n",
              "      <td>0</td>\n",
              "    </tr>\n",
              "    <tr>\n",
              "      <th>2</th>\n",
              "      <td>0</td>\n",
              "      <td>9.0</td>\n",
              "      <td>21.5</td>\n",
              "      <td>29.6</td>\n",
              "      <td>71.2</td>\n",
              "      <td>1</td>\n",
              "    </tr>\n",
              "    <tr>\n",
              "      <th>3</th>\n",
              "      <td>0</td>\n",
              "      <td>14.9</td>\n",
              "      <td>16.0</td>\n",
              "      <td>31.4</td>\n",
              "      <td>87.5</td>\n",
              "      <td>0</td>\n",
              "    </tr>\n",
              "    <tr>\n",
              "      <th>4</th>\n",
              "      <td>1</td>\n",
              "      <td>14.7</td>\n",
              "      <td>22.0</td>\n",
              "      <td>28.2</td>\n",
              "      <td>99.5</td>\n",
              "      <td>0</td>\n",
              "    </tr>\n",
              "  </tbody>\n",
              "</table>\n",
              "</div>\n",
              "    <div class=\"colab-df-buttons\">\n",
              "\n",
              "  <div class=\"colab-df-container\">\n",
              "    <button class=\"colab-df-convert\" onclick=\"convertToInteractive('df-782d7c13-d56e-4c3b-9caa-ea498e14551a')\"\n",
              "            title=\"Convert this dataframe to an interactive table.\"\n",
              "            style=\"display:none;\">\n",
              "\n",
              "  <svg xmlns=\"http://www.w3.org/2000/svg\" height=\"24px\" viewBox=\"0 -960 960 960\">\n",
              "    <path d=\"M120-120v-720h720v720H120Zm60-500h600v-160H180v160Zm220 220h160v-160H400v160Zm0 220h160v-160H400v160ZM180-400h160v-160H180v160Zm440 0h160v-160H620v160ZM180-180h160v-160H180v160Zm440 0h160v-160H620v160Z\"/>\n",
              "  </svg>\n",
              "    </button>\n",
              "\n",
              "  <style>\n",
              "    .colab-df-container {\n",
              "      display:flex;\n",
              "      gap: 12px;\n",
              "    }\n",
              "\n",
              "    .colab-df-convert {\n",
              "      background-color: #E8F0FE;\n",
              "      border: none;\n",
              "      border-radius: 50%;\n",
              "      cursor: pointer;\n",
              "      display: none;\n",
              "      fill: #1967D2;\n",
              "      height: 32px;\n",
              "      padding: 0 0 0 0;\n",
              "      width: 32px;\n",
              "    }\n",
              "\n",
              "    .colab-df-convert:hover {\n",
              "      background-color: #E2EBFA;\n",
              "      box-shadow: 0px 1px 2px rgba(60, 64, 67, 0.3), 0px 1px 3px 1px rgba(60, 64, 67, 0.15);\n",
              "      fill: #174EA6;\n",
              "    }\n",
              "\n",
              "    .colab-df-buttons div {\n",
              "      margin-bottom: 4px;\n",
              "    }\n",
              "\n",
              "    [theme=dark] .colab-df-convert {\n",
              "      background-color: #3B4455;\n",
              "      fill: #D2E3FC;\n",
              "    }\n",
              "\n",
              "    [theme=dark] .colab-df-convert:hover {\n",
              "      background-color: #434B5C;\n",
              "      box-shadow: 0px 1px 3px 1px rgba(0, 0, 0, 0.15);\n",
              "      filter: drop-shadow(0px 1px 2px rgba(0, 0, 0, 0.3));\n",
              "      fill: #FFFFFF;\n",
              "    }\n",
              "  </style>\n",
              "\n",
              "    <script>\n",
              "      const buttonEl =\n",
              "        document.querySelector('#df-782d7c13-d56e-4c3b-9caa-ea498e14551a button.colab-df-convert');\n",
              "      buttonEl.style.display =\n",
              "        google.colab.kernel.accessAllowed ? 'block' : 'none';\n",
              "\n",
              "      async function convertToInteractive(key) {\n",
              "        const element = document.querySelector('#df-782d7c13-d56e-4c3b-9caa-ea498e14551a');\n",
              "        const dataTable =\n",
              "          await google.colab.kernel.invokeFunction('convertToInteractive',\n",
              "                                                    [key], {});\n",
              "        if (!dataTable) return;\n",
              "\n",
              "        const docLinkHtml = 'Like what you see? Visit the ' +\n",
              "          '<a target=\"_blank\" href=https://colab.research.google.com/notebooks/data_table.ipynb>data table notebook</a>'\n",
              "          + ' to learn more about interactive tables.';\n",
              "        element.innerHTML = '';\n",
              "        dataTable['output_type'] = 'display_data';\n",
              "        await google.colab.output.renderOutput(dataTable, element);\n",
              "        const docLink = document.createElement('div');\n",
              "        docLink.innerHTML = docLinkHtml;\n",
              "        element.appendChild(docLink);\n",
              "      }\n",
              "    </script>\n",
              "  </div>\n",
              "\n",
              "\n",
              "    <div id=\"df-48792343-1fe1-46ca-9805-736a16334e0f\">\n",
              "      <button class=\"colab-df-quickchart\" onclick=\"quickchart('df-48792343-1fe1-46ca-9805-736a16334e0f')\"\n",
              "                title=\"Suggest charts\"\n",
              "                style=\"display:none;\">\n",
              "\n",
              "<svg xmlns=\"http://www.w3.org/2000/svg\" height=\"24px\"viewBox=\"0 0 24 24\"\n",
              "     width=\"24px\">\n",
              "    <g>\n",
              "        <path d=\"M19 3H5c-1.1 0-2 .9-2 2v14c0 1.1.9 2 2 2h14c1.1 0 2-.9 2-2V5c0-1.1-.9-2-2-2zM9 17H7v-7h2v7zm4 0h-2V7h2v10zm4 0h-2v-4h2v4z\"/>\n",
              "    </g>\n",
              "</svg>\n",
              "      </button>\n",
              "\n",
              "<style>\n",
              "  .colab-df-quickchart {\n",
              "      --bg-color: #E8F0FE;\n",
              "      --fill-color: #1967D2;\n",
              "      --hover-bg-color: #E2EBFA;\n",
              "      --hover-fill-color: #174EA6;\n",
              "      --disabled-fill-color: #AAA;\n",
              "      --disabled-bg-color: #DDD;\n",
              "  }\n",
              "\n",
              "  [theme=dark] .colab-df-quickchart {\n",
              "      --bg-color: #3B4455;\n",
              "      --fill-color: #D2E3FC;\n",
              "      --hover-bg-color: #434B5C;\n",
              "      --hover-fill-color: #FFFFFF;\n",
              "      --disabled-bg-color: #3B4455;\n",
              "      --disabled-fill-color: #666;\n",
              "  }\n",
              "\n",
              "  .colab-df-quickchart {\n",
              "    background-color: var(--bg-color);\n",
              "    border: none;\n",
              "    border-radius: 50%;\n",
              "    cursor: pointer;\n",
              "    display: none;\n",
              "    fill: var(--fill-color);\n",
              "    height: 32px;\n",
              "    padding: 0;\n",
              "    width: 32px;\n",
              "  }\n",
              "\n",
              "  .colab-df-quickchart:hover {\n",
              "    background-color: var(--hover-bg-color);\n",
              "    box-shadow: 0 1px 2px rgba(60, 64, 67, 0.3), 0 1px 3px 1px rgba(60, 64, 67, 0.15);\n",
              "    fill: var(--button-hover-fill-color);\n",
              "  }\n",
              "\n",
              "  .colab-df-quickchart-complete:disabled,\n",
              "  .colab-df-quickchart-complete:disabled:hover {\n",
              "    background-color: var(--disabled-bg-color);\n",
              "    fill: var(--disabled-fill-color);\n",
              "    box-shadow: none;\n",
              "  }\n",
              "\n",
              "  .colab-df-spinner {\n",
              "    border: 2px solid var(--fill-color);\n",
              "    border-color: transparent;\n",
              "    border-bottom-color: var(--fill-color);\n",
              "    animation:\n",
              "      spin 1s steps(1) infinite;\n",
              "  }\n",
              "\n",
              "  @keyframes spin {\n",
              "    0% {\n",
              "      border-color: transparent;\n",
              "      border-bottom-color: var(--fill-color);\n",
              "      border-left-color: var(--fill-color);\n",
              "    }\n",
              "    20% {\n",
              "      border-color: transparent;\n",
              "      border-left-color: var(--fill-color);\n",
              "      border-top-color: var(--fill-color);\n",
              "    }\n",
              "    30% {\n",
              "      border-color: transparent;\n",
              "      border-left-color: var(--fill-color);\n",
              "      border-top-color: var(--fill-color);\n",
              "      border-right-color: var(--fill-color);\n",
              "    }\n",
              "    40% {\n",
              "      border-color: transparent;\n",
              "      border-right-color: var(--fill-color);\n",
              "      border-top-color: var(--fill-color);\n",
              "    }\n",
              "    60% {\n",
              "      border-color: transparent;\n",
              "      border-right-color: var(--fill-color);\n",
              "    }\n",
              "    80% {\n",
              "      border-color: transparent;\n",
              "      border-right-color: var(--fill-color);\n",
              "      border-bottom-color: var(--fill-color);\n",
              "    }\n",
              "    90% {\n",
              "      border-color: transparent;\n",
              "      border-bottom-color: var(--fill-color);\n",
              "    }\n",
              "  }\n",
              "</style>\n",
              "\n",
              "      <script>\n",
              "        async function quickchart(key) {\n",
              "          const quickchartButtonEl =\n",
              "            document.querySelector('#' + key + ' button');\n",
              "          quickchartButtonEl.disabled = true;  // To prevent multiple clicks.\n",
              "          quickchartButtonEl.classList.add('colab-df-spinner');\n",
              "          try {\n",
              "            const charts = await google.colab.kernel.invokeFunction(\n",
              "                'suggestCharts', [key], {});\n",
              "          } catch (error) {\n",
              "            console.error('Error during call to suggestCharts:', error);\n",
              "          }\n",
              "          quickchartButtonEl.classList.remove('colab-df-spinner');\n",
              "          quickchartButtonEl.classList.add('colab-df-quickchart-complete');\n",
              "        }\n",
              "        (() => {\n",
              "          let quickchartButtonEl =\n",
              "            document.querySelector('#df-48792343-1fe1-46ca-9805-736a16334e0f button');\n",
              "          quickchartButtonEl.style.display =\n",
              "            google.colab.kernel.accessAllowed ? 'block' : 'none';\n",
              "        })();\n",
              "      </script>\n",
              "    </div>\n",
              "\n",
              "    </div>\n",
              "  </div>\n"
            ],
            "application/vnd.google.colaboratory.intrinsic+json": {
              "type": "dataframe",
              "summary": "{\n  \"name\": \"print(f\\\"Updated number of rows: {df\",\n  \"rows\": 5,\n  \"fields\": [\n    {\n      \"column\": \"Gender\",\n      \"properties\": {\n        \"dtype\": \"number\",\n        \"std\": 0,\n        \"min\": 0,\n        \"max\": 1,\n        \"num_unique_values\": 2,\n        \"samples\": [\n          0,\n          1\n        ],\n        \"semantic_type\": \"\",\n        \"description\": \"\"\n      }\n    },\n    {\n      \"column\": \"Hemoglobin\",\n      \"properties\": {\n        \"dtype\": \"number\",\n        \"std\": 2.7680317917249435,\n        \"min\": 9.0,\n        \"max\": 15.9,\n        \"num_unique_values\": 4,\n        \"samples\": [\n          15.9,\n          14.7\n        ],\n        \"semantic_type\": \"\",\n        \"description\": \"\"\n      }\n    },\n    {\n      \"column\": \"MCH\",\n      \"properties\": {\n        \"dtype\": \"number\",\n        \"std\": 3.4332200628564427,\n        \"min\": 16.0,\n        \"max\": 25.4,\n        \"num_unique_values\": 5,\n        \"samples\": [\n          25.4,\n          22.0\n        ],\n        \"semantic_type\": \"\",\n        \"description\": \"\"\n      }\n    },\n    {\n      \"column\": \"MCHC\",\n      \"properties\": {\n        \"dtype\": \"number\",\n        \"std\": 1.298845641329253,\n        \"min\": 28.2,\n        \"max\": 31.4,\n        \"num_unique_values\": 5,\n        \"samples\": [\n          28.3,\n          28.2\n        ],\n        \"semantic_type\": \"\",\n        \"description\": \"\"\n      }\n    },\n    {\n      \"column\": \"MCV\",\n      \"properties\": {\n        \"dtype\": \"number\",\n        \"std\": 11.757848442636092,\n        \"min\": 71.2,\n        \"max\": 99.5,\n        \"num_unique_values\": 5,\n        \"samples\": [\n          72.0,\n          99.5\n        ],\n        \"semantic_type\": \"\",\n        \"description\": \"\"\n      }\n    },\n    {\n      \"column\": \"Result\",\n      \"properties\": {\n        \"dtype\": \"number\",\n        \"std\": 0,\n        \"min\": 0,\n        \"max\": 1,\n        \"num_unique_values\": 2,\n        \"samples\": [\n          1,\n          0\n        ],\n        \"semantic_type\": \"\",\n        \"description\": \"\"\n      }\n    }\n  ]\n}"
            }
          },
          "metadata": {}
        },
        {
          "output_type": "stream",
          "name": "stdout",
          "text": [
            "Updated number of rows: 534\n"
          ]
        }
      ]
    },
    {
      "cell_type": "markdown",
      "source": [
        "Setelah data duplikat dihapus, dataset menjadi lebih bersih dan siap digunakan untuk tahap berikutnya. Langkah selanjutnya adalah memisahkan variabel independen (fitur) dan variabel dependen (target) ke dalam dua variabel terpisah, yaitu X untuk fitur dan y untuk label. Pemisahan ini penting sebagai persiapan sebelum proses pelatihan model dilakukan.\n"
      ],
      "metadata": {
        "id": "7Dhjvbb3juHz"
      }
    },
    {
      "cell_type": "markdown",
      "source": [
        "## Memisahkan antara variabel independen dan variabel dependen serta splitting data"
      ],
      "metadata": {
        "id": "M-tEzJ41gjtd"
      }
    },
    {
      "cell_type": "code",
      "source": [
        "X = df.drop(columns='Result')\n",
        "y = df['Result']"
      ],
      "metadata": {
        "id": "GPdkmgRPjjlZ"
      },
      "execution_count": null,
      "outputs": []
    },
    {
      "cell_type": "markdown",
      "source": [
        "Data kemudian dipisahkan menjadi variabel independen dan dependen. Variabel X berisi fitur atau data independen, sedangkan variabel y memuat label atau data dependen yang akan diprediksi. Pemisahan ini dilakukan untuk mempersiapkan data sebelum masuk ke tahap pelatihan model."
      ],
      "metadata": {
        "id": "trpzxQ94q7ca"
      }
    },
    {
      "cell_type": "code",
      "source": [
        "X_train, X_test, y_train, y_test = train_test_split(X, y, test_size=0.2, stratify=y, random_state=42)"
      ],
      "metadata": {
        "id": "NcxymVtJjlFV"
      },
      "execution_count": null,
      "outputs": []
    },
    {
      "cell_type": "markdown",
      "source": [
        "Pembagian data dilakukan dengan rasio 80% untuk data latih dan 20% untuk data uji. Pemisahan ini bertujuan agar model memiliki cukup data untuk belajar sekaligus menyediakan data yang cukup untuk evaluasi. Dalam proses ini, distribusi kelas pada variabel target dijaga tetap seimbang menggunakan teknik stratifikasi, sehingga proporsi label pada data latih dan data uji tetap konsisten dengan data aslinya. Pengacakan dilakukan secara terkontrol agar hasil pembagian data tetap konsisten dan dapat diulang kembali."
      ],
      "metadata": {
        "id": "XIL7vrz5q8wR"
      }
    },
    {
      "cell_type": "markdown",
      "source": [
        "## Normalisasi data (Feature Scalling)"
      ],
      "metadata": {
        "id": "qXFphN0HLgcN"
      }
    },
    {
      "cell_type": "code",
      "source": [
        "Scaler = MinMaxScaler()\n",
        "X_train = Scaler.fit_transform(X_train)\n",
        "X_test = Scaler.transform(X_test)"
      ],
      "metadata": {
        "id": "3nKmdpRIjmYQ"
      },
      "execution_count": null,
      "outputs": []
    },
    {
      "cell_type": "markdown",
      "source": [
        "Proses normalisasi pada data latih untuk ntuk menyamakan skala atau rentang nilai antar fitur dalam dataset, sehingga algoritma machine learning bisa memprosesnya secara adil dan efisien."
      ],
      "metadata": {
        "id": "WMmDmd7CrBYk"
      }
    },
    {
      "cell_type": "markdown",
      "source": [
        "Hasil Akhir Data Preparation:\n",
        "\n",
        "Penghapusan Duplikat\n",
        "\n",
        "1.   Sebanyak 887 data duplikat berhasil dihapus dari total 1421 data, menyisakan 534 data unik. Penghapusan ini penting dilakukan untuk menjaga kualitas data dan menghindari bias dalam pelatihan model.\n",
        "2.   Pemisahan Variabel\n",
        "Dataset dipisahkan menjadi dua bagian, yaitu X sebagai variabel independen (fitur) dan y sebagai variabel dependen (label). Langkah ini dilakukan agar proses pelatihan model menjadi lebih terstruktur.\n",
        "3. Splitting Data\n",
        "Data dibagi menjadi 80% data latih dan 20% data uji menggunakan fungsi train_test_split, dengan teknik stratifikasi agar distribusi kelas tetap seimbang. Pengacakan dilakukan secara terkontrol (random_state) agar pembagian data dapat direproduksi.\n",
        "4. Normalisasi Data\n",
        "Data latih dan data uji dinormalisasi menggunakan metode MinMaxScaler. Normalisasi ini dilakukan untuk menyamakan skala antar fitur sehingga model dapat belajar secara lebih adil dan efisien."
      ],
      "metadata": {
        "id": "nlmwNZUYzvcN"
      }
    },
    {
      "cell_type": "markdown",
      "source": [
        "# Modeling & Evaluasi"
      ],
      "metadata": {
        "id": "DflxRpVKwvuQ"
      }
    },
    {
      "cell_type": "markdown",
      "source": [
        "## Membuat fungsi untuk evaluasi performa dari model"
      ],
      "metadata": {
        "id": "CxX8JVkbgZv1"
      }
    },
    {
      "cell_type": "code",
      "source": [
        "def evaluate_model(model, X_train, y_train, X_test, y_test):\n",
        "    model.fit(X_train, y_train)\n",
        "    y_pred = model.predict(X_test)\n",
        "    print(f\"Accuracy: {accuracy_score(y_test, y_pred):.2f}\")\n",
        "    print(f\"Precision Score : {precision_score(y_test, y_pred, average='weighted'):.2f}\")\n",
        "    print(f\"Recall Score : {recall_score(y_test, y_pred, average='weighted'):.2f}\")\n",
        "    print(f\"F1 Score: {f1_score(y_test, y_pred, average='weighted'):.2f}\")\n",
        "    print(\"-\"*50)\n",
        "    sns.heatmap(confusion_matrix(y_test , y_pred) , annot = True ,cmap='Blues')\n",
        "    plt.title('Confusion Matrix')\n",
        "    plt.xlabel('Predicted')\n",
        "    plt.ylabel('True')\n",
        "    plt.show()\n",
        "    print(\"-\"*50)"
      ],
      "metadata": {
        "id": "l1pU3qJ0CwIn"
      },
      "execution_count": null,
      "outputs": []
    },
    {
      "cell_type": "markdown",
      "source": [
        "Fungsi evaluate_model() digunakan untuk mengevaluasi performa model machine learning secara praktis. Fungsi ini menampilkan nilai akurasi, precision, recall, F1-score, dan visualisasi confusion matrix, sehingga memudahkan dalam membandingkan hasil dari beberapa model."
      ],
      "metadata": {
        "id": "7iRSU3vVjWv-"
      }
    },
    {
      "cell_type": "markdown",
      "source": [
        "## Melakukan proses training pada model KNN, RF, SVM, dan XGBoost menggunakan data hasil splitting."
      ],
      "metadata": {
        "id": "X2Zy5kCDgky7"
      }
    },
    {
      "cell_type": "code",
      "source": [
        "from xgboost import XGBClassifier\n",
        "model_knn = KNeighborsClassifier()\n",
        "model_rf = RandomForestClassifier(n_estimators=300,max_depth=2,random_state=42)\n",
        "model_svm = SVC()\n",
        "model_xgb = XGBClassifier(learning_rate=0.1, n_estimators=100, max_depth=3, eval_metric='logloss')\n"
      ],
      "metadata": {
        "id": "GhxHKJOECqZm"
      },
      "execution_count": null,
      "outputs": []
    },
    {
      "cell_type": "markdown",
      "source": [
        "Dilatih empat model klasifikasi, yaitu:\n",
        "1.   K-Nearest Neighbors (KNN)\n",
        "2.   Random Forest\n",
        "3.   SVM\n",
        "4.   XGboost\n",
        "\n",
        "Keempat model ini akan dievaluasi menggunakan empat metrik evaluasi, yaitu:\n",
        "1.   Akurasi\n",
        "2.   Precision\n",
        "3.   Recall\n",
        "4.   F1-Score\n",
        "\n",
        "Pada tahap ini, tidak dilakukan hyperparameter tuning. Tujuannya adalah untuk membandingkan performa awal dari masing-masing model dan memilih model terbaik yang akan digunakan dalam proses prediksi data.\n",
        "\n",
        "\n",
        "\n"
      ],
      "metadata": {
        "id": "aighI0sIr5xX"
      }
    },
    {
      "cell_type": "markdown",
      "source": [
        "## Menampilkan evaluasi dari hasil latih pada masing-masing model"
      ],
      "metadata": {
        "id": "DKCzbHHqhNGR"
      }
    },
    {
      "cell_type": "code",
      "source": [
        "print(\"KNN\")\n",
        "evaluate_model(model_knn, X_train , y_train, X_test, y_test)\n",
        "print(\"Random Forest\")\n",
        "evaluate_model(model_rf, X_train , y_train, X_test, y_test)\n",
        "print(\"SVM\")\n",
        "evaluate_model(model_svm, X_train , y_train, X_test, y_test)\n",
        "print(\"Gradient XGBoosting\")\n",
        "evaluate_model(model_xgb, X_train, y_train, X_test, y_test)"
      ],
      "metadata": {
        "colab": {
          "base_uri": "https://localhost:8080/",
          "height": 1000
        },
        "id": "r0MpYsungz48",
        "outputId": "3cbbb16b-29e5-4940-cec1-fed65c6f6e6c"
      },
      "execution_count": null,
      "outputs": [
        {
          "output_type": "stream",
          "name": "stdout",
          "text": [
            "KNN\n",
            "Accuracy: 0.92\n",
            "Precision Score : 0.92\n",
            "Recall Score : , 0.92\n",
            "F1 Score: 0.92\n",
            "--------------------------------------------------\n"
          ]
        },
        {
          "output_type": "display_data",
          "data": {
            "text/plain": [
              "<Figure size 640x480 with 2 Axes>"
            ],
            "image/png": "[encoded data removed]"
          },
          "metadata": {}
        },
        {
          "output_type": "stream",
          "name": "stdout",
          "text": [
            "--------------------------------------------------\n",
            "Random Forest\n",
            "Accuracy: 0.93\n",
            "Precision Score : 0.94\n",
            "Recall Score : , 0.93\n",
            "F1 Score: 0.93\n",
            "--------------------------------------------------\n"
          ]
        },
        {
          "output_type": "display_data",
          "data": {
            "text/plain": [
              "<Figure size 640x480 with 2 Axes>"
            ],
            "image/png": "[encoded data removed]"
          },
          "metadata": {}
        },
        {
          "output_type": "stream",
          "name": "stdout",
          "text": [
            "--------------------------------------------------\n",
            "SVM\n",
            "Accuracy: 0.93\n",
            "Precision Score : 0.94\n",
            "Recall Score : , 0.93\n",
            "F1 Score: 0.93\n",
            "--------------------------------------------------\n"
          ]
        },
        {
          "output_type": "display_data",
          "data": {
            "text/plain": [
              "<Figure size 640x480 with 2 Axes>"
            ],
            "image/png": "[encoded data removed]"
          },
          "metadata": {}
        },
        {
          "output_type": "stream",
          "name": "stdout",
          "text": [
            "--------------------------------------------------\n",
            "Gradient XGBoosting\n",
            "Accuracy: 1.00\n",
            "Precision Score : 1.00\n",
            "Recall Score : , 1.00\n",
            "F1 Score: 1.00\n",
            "--------------------------------------------------\n"
          ]
        },
        {
          "output_type": "display_data",
          "data": {
            "text/plain": [
              "<Figure size 640x480 with 2 Axes>"
            ],
            "image/png": "[encoded data removed]"
          },
          "metadata": {}
        },
        {
          "output_type": "stream",
          "name": "stdout",
          "text": [
            "--------------------------------------------------\n"
          ]
        }
      ]
    },
    {
      "cell_type": "markdown",
      "source": [
        "\n",
        "## 1. K-Nearest Neighbors (KNN)\n",
        "\n",
        "### Deskripsi:\n",
        "\n",
        "KNN adalah algoritma klasifikasi berbasis instance-based learning. Ketika memprediksi, KNN akan mencari k tetangga terdekat dari data uji, kemudian menentukan kelas mayoritas dari tetangga-tetangga tersebut.\n",
        "\n",
        "### Rumus (Jarak Euclidean):\n",
        "\n",
        "$d(x, x_i) = \\sqrt{\\sum_{j=1}^{n} (x_j - x_{ij})^2}$\n",
        "\n",
        "**Keterangan:**\n",
        "\n",
        "* \\$d(x, x\\_i)\\$ : Jarak antara titik uji \\$x\\$ dan titik data latih ke-\\$i\\$\n",
        "* \\$x\\$ : Vektor fitur data uji\n",
        "* \\$x\\_i\\$ : Vektor fitur data latih\n",
        "* \\$n\\$ : Jumlah fitur\n",
        "\n",
        "### Parameter:\n",
        "\n",
        "* n_neighbors=5\n",
        "* weights='uniform'\n",
        "* metric='minkowski', p=2\n",
        "\n",
        "### Kelebihan:\n",
        "\n",
        "* Sederhana, mudah diimplementasikan\n",
        "* Tidak butuh pelatihan (lazy learner)\n",
        "* Cocok untuk dataset kecil\n",
        "\n",
        "### Kekurangan:\n",
        "\n",
        "* Lambat saat jumlah data besar\n",
        "* Sensitif terhadap outlier dan skala fitur\n",
        "* Butuh normalisasi data\n",
        "\n",
        "---\n",
        "\n",
        "## 2. Random Forest\n",
        "\n",
        "### Deskripsi:\n",
        "\n",
        "Random Forest adalah algoritma ensemble berbasis banyak decision tree. Setiap pohon dilatih dari subset data secara acak, dan prediksi akhir didapat melalui voting mayoritas.\n",
        "\n",
        "### Rumus (Voting Mayoritas):\n",
        "\n",
        "$\\hat{y} = \\text{mode}(T_1(x), T_2(x), \\ldots, T_k(x))$\n",
        "\n",
        "**Keterangan:**\n",
        "\n",
        "* \\$T\\_i(x)\\$ : Hasil prediksi tree ke-\\$i\\$\n",
        "* \\$\\hat{y}\\$ : Hasil voting akhir\n",
        "\n",
        "### Parameter:\n",
        "\n",
        "* n_estimators=300\n",
        "* max_depth=2\n",
        "* random_state=42\n",
        "\n",
        "### Kelebihan:\n",
        "\n",
        "* Tahan terhadap overfitting\n",
        "* Cocok untuk data dengan banyak fitur\n",
        "* Memberikan informasi pentingnya fitur\n",
        "\n",
        "### Kekurangan:\n",
        "\n",
        "* Lebih kompleks dan lambat dibanding decision tree tunggal\n",
        "* Kurang interpretatif\n",
        "* Bisa boros memori\n",
        "\n",
        "---\n",
        "\n",
        "## 3. Support Vector Machine (SVM)\n",
        "\n",
        "### Deskripsi:\n",
        "\n",
        "SVM bekerja dengan mencari hyperplane optimal yang memisahkan kelas dengan margin terbesar. Dapat menggunakan kernel non-linear untuk data kompleks.\n",
        "\n",
        "### Rumus (Linear SVM):\n",
        "\n",
        "$\\min_{w,b} \\frac{1}{2} \\|w\\|^2 \\quad \\text{dengan syarat: } y_i(w \\cdot x_i + b) \\geq 1$\n",
        "\n",
        "### Parameter:\n",
        "\n",
        "* C=1.0\n",
        "* kernel='rbf'\n",
        "* gamma='scale'\n",
        "\n",
        "### Kelebihan:\n",
        "\n",
        "* Akurat pada data berdimensi tinggi\n",
        "* Bisa menangani data non-linear\n",
        "* Cocok untuk klasifikasi biner\n",
        "\n",
        "### Kekurangan:\n",
        "\n",
        "* Waktu pelatihan lama pada data besar\n",
        "* Parameter harus dituning dengan hati-hati\n",
        "* Sulit diinterpretasi\n",
        "\n",
        "---\n",
        "\n",
        "## 4. Gradient Boosting (XGBoost)\n",
        "\n",
        "### Deskripsi:\n",
        "\n",
        "XGBoost adalah algoritma Gradient Boosting yang sangat cepat dan efisien. Setiap model baru dibangun untuk memperbaiki kesalahan dari model sebelumnya dengan pendekatan iteratif.\n",
        "\n",
        "### Rumus:\n",
        "\n",
        "$F_{m}(x) = F_{m-1}(x) + \\gamma_m h_m(x)$\n",
        "\n",
        "**Keterangan:**\n",
        "\n",
        "* \\$F\\_{m}(x)\\$ : Model akhir pada iterasi ke-\\$m\\$\n",
        "* \\$h\\_m(x)\\$ : Weak learner (decision tree kecil)\n",
        "* \\$\\gamma\\_m\\$ : Learning rate\n",
        "\n",
        "### Parameter:\n",
        "\n",
        "* n_estimators=100\n",
        "* learning_rate=0.1\n",
        "* max_depth=3\n",
        "* use_label_encoder=False\n",
        "\n",
        "### Kelebihan:\n",
        "\n",
        "* Akurasi tinggi\n",
        "* Efisien secara waktu dan memori\n",
        "* Dapat menangani missing value dan outlier\n",
        "\n",
        "### Kekurangan:\n",
        "\n",
        "* Rentan overfitting jika tidak dikontrol\n",
        "* Butuh tuning parameter optimal\n",
        "* Tidak secepat Random Forest dalam inferensi\n",
        "\n",
        "---\n",
        "\n",
        "## **Evaluasi Model**\n",
        "\n",
        "### **Metrik Evaluasi**\n",
        "\n",
        "1. **Accuracy**\n",
        "   $Accuracy = \\frac{TP + TN}{TP + TN + FP + FN}$\n",
        "2. **Precision**\n",
        "   $Precision = \\frac{TP}{TP + FP}$\n",
        "3. **Recall**\n",
        "   $Recall = \\frac{TP}{TP + FN}$\n",
        "4. **F1-Score**\n",
        "   $F1 = 2 \\times \\frac{Precision \\times Recall}{Precision + Recall}$\n",
        "\n",
        "   #### Keterangan\n",
        "   - $TP$ : jumlah prediksi benar untuk nilai positif oleh model\n",
        "   - $TN$ : jumlah prediksi benar untuk nilai negatif oleh model\n",
        "   - $FP$ : jumlah prediksi salah untuk nilai positif oleh model\n",
        "   - $FN$ : jumlah prediksi salah untuk nilai negatif oleh model\n",
        "\n",
        "### **Hasil Evaluasi**\n",
        "\n",
        "| Model             | Accuracy | Precision | Recall   | F1-Score |\n",
        "| ----------------- | -------- | --------- | -------- | -------- |\n",
        "| KNN               | 0.92     | 0.92      | 0.92     | 0.92     |\n",
        "| Random Forest     | 0.93     | 0.94      | 0.93     | 0.93     |\n",
        "| SVM               | 0.93     | 0.94      | 0.93     | 0.93     |\n",
        "| Gradient Boosting | **1.00** | **1.00**  | **1.00** | **1.00** |\n",
        "\n",
        "### **Model Terbaik**\n",
        "\n",
        "Model terbaik berdasarkan metrik evaluasi adalah **Gradient Boosting (XGBoost)**. Model ini mencetak nilai sempurna (1.00) pada semua metrik evaluasi. Hal ini menunjukkan bahwa model sangat baik dalam mengklasifikasikan data tanpa kesalahan.\n",
        "\n",
        "Model ini dipilih karena:\n",
        "\n",
        "* Akurasi tinggi dan konsisten\n",
        "* Kinerja sangat baik dibandingkan model lain\n",
        "* Sensitivitas dan presisi yang seimbang\n",
        "\n",
        "### **Keterkaitan dengan Business Understanding**\n",
        "\n",
        "1. **Apakah sudah menjawab pertanyaan problem statement?**\n",
        "   Ya. Model Gradient Boosting mampu memprediksi kondisi anemia dengan sangat akurat berdasarkan fitur non-klinik, sesuai tujuan awal penelitian.\n",
        "\n",
        "2. **Apakah goals tercapai?**\n",
        "   Ya. Tujuan membangun model klasifikasi anemia berbasis machine learning dengan metrik evaluasi tinggi telah tercapai. XGBoost memberikan performa optimal.\n",
        "\n",
        "3. **Apakah solusi yang diterapkan berpengaruh?**\n",
        "   Sangat berpengaruh. Perbandingan beberapa model memberikan pemahaman yang lebih menyeluruh tentang performa algoritma. Data yang diproses dengan baik dan pemilihan model yang tepat berkontribusi pada keberhasilan ini.\n",
        "\n"
      ],
      "metadata": {
        "id": "vyDkzD_djLIe"
      }
    }
  ]
}
